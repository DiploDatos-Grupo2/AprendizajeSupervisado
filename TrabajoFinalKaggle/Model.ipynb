{
 "cells": [
  {
   "cell_type": "code",
   "execution_count": 2,
   "id": "bed4e7ce-0514-4183-95c0-e4c264182a4a",
   "metadata": {},
   "outputs": [],
   "source": [
    "#Data\n",
    "import numpy as np\n",
    "import pandas as pd\n",
    "\n",
    "# Model\n",
    "from sklearn.model_selection import train_test_split\n",
    "from sklearn.linear_model import SGDClassifier\n",
    "from sklearn.preprocessing import StandardScaler\n",
    "from sklearn.pipeline import make_pipeline\n",
    "from sklearn.model_selection import GridSearchCV\n",
    "from sklearn.tree import DecisionTreeClassifier\n",
    "\n",
    "# Metricas\n",
    "from sklearn.metrics import accuracy_score\n",
    "from sklearn.metrics import precision_score\n",
    "from sklearn.metrics import f1_score\n",
    "from sklearn.metrics import plot_confusion_matrix\n",
    "\n",
    "# Plot\n",
    "import matplotlib.pyplot as plt\n",
    "\n",
    "import warnings\n",
    "warnings.filterwarnings('ignore')"
   ]
  },
  {
   "cell_type": "markdown",
   "id": "fac9ed8e-e645-4ddf-8173-4b71793a3c17",
   "metadata": {},
   "source": [
    "Carga de Datos y Filtrado de Datos"
   ]
  },
  {
   "cell_type": "code",
   "execution_count": 3,
   "id": "d54d78f0-b306-4d9a-badd-498b80bb4547",
   "metadata": {},
   "outputs": [
    {
     "data": {
      "text/html": [
       "<div>\n",
       "<style scoped>\n",
       "    .dataframe tbody tr th:only-of-type {\n",
       "        vertical-align: middle;\n",
       "    }\n",
       "\n",
       "    .dataframe tbody tr th {\n",
       "        vertical-align: top;\n",
       "    }\n",
       "\n",
       "    .dataframe thead th {\n",
       "        text-align: right;\n",
       "    }\n",
       "</style>\n",
       "<table border=\"1\" class=\"dataframe\">\n",
       "  <thead>\n",
       "    <tr style=\"text-align: right;\">\n",
       "      <th></th>\n",
       "      <th>Age</th>\n",
       "      <th>Employment Type</th>\n",
       "      <th>GraduateOrNot</th>\n",
       "      <th>AnnualIncome</th>\n",
       "      <th>FamilyMembers</th>\n",
       "      <th>ChronicDiseases</th>\n",
       "      <th>FrequentFlyer</th>\n",
       "      <th>EverTravelledAbroad</th>\n",
       "      <th>TravelInsurance</th>\n",
       "    </tr>\n",
       "  </thead>\n",
       "  <tbody>\n",
       "    <tr>\n",
       "      <th>0</th>\n",
       "      <td>33</td>\n",
       "      <td>0</td>\n",
       "      <td>0</td>\n",
       "      <td>550000</td>\n",
       "      <td>6</td>\n",
       "      <td>0</td>\n",
       "      <td>1</td>\n",
       "      <td>1</td>\n",
       "      <td>1</td>\n",
       "    </tr>\n",
       "    <tr>\n",
       "      <th>1</th>\n",
       "      <td>28</td>\n",
       "      <td>0</td>\n",
       "      <td>0</td>\n",
       "      <td>800000</td>\n",
       "      <td>7</td>\n",
       "      <td>0</td>\n",
       "      <td>0</td>\n",
       "      <td>1</td>\n",
       "      <td>0</td>\n",
       "    </tr>\n",
       "    <tr>\n",
       "      <th>2</th>\n",
       "      <td>31</td>\n",
       "      <td>0</td>\n",
       "      <td>0</td>\n",
       "      <td>1250000</td>\n",
       "      <td>4</td>\n",
       "      <td>0</td>\n",
       "      <td>1</td>\n",
       "      <td>1</td>\n",
       "      <td>0</td>\n",
       "    </tr>\n",
       "    <tr>\n",
       "      <th>3</th>\n",
       "      <td>31</td>\n",
       "      <td>1</td>\n",
       "      <td>1</td>\n",
       "      <td>300000</td>\n",
       "      <td>7</td>\n",
       "      <td>0</td>\n",
       "      <td>1</td>\n",
       "      <td>1</td>\n",
       "      <td>0</td>\n",
       "    </tr>\n",
       "    <tr>\n",
       "      <th>4</th>\n",
       "      <td>28</td>\n",
       "      <td>0</td>\n",
       "      <td>0</td>\n",
       "      <td>1250000</td>\n",
       "      <td>3</td>\n",
       "      <td>0</td>\n",
       "      <td>1</td>\n",
       "      <td>1</td>\n",
       "      <td>0</td>\n",
       "    </tr>\n",
       "    <tr>\n",
       "      <th>...</th>\n",
       "      <td>...</td>\n",
       "      <td>...</td>\n",
       "      <td>...</td>\n",
       "      <td>...</td>\n",
       "      <td>...</td>\n",
       "      <td>...</td>\n",
       "      <td>...</td>\n",
       "      <td>...</td>\n",
       "      <td>...</td>\n",
       "    </tr>\n",
       "    <tr>\n",
       "      <th>1485</th>\n",
       "      <td>31</td>\n",
       "      <td>1</td>\n",
       "      <td>1</td>\n",
       "      <td>300000</td>\n",
       "      <td>5</td>\n",
       "      <td>0</td>\n",
       "      <td>1</td>\n",
       "      <td>1</td>\n",
       "      <td>0</td>\n",
       "    </tr>\n",
       "    <tr>\n",
       "      <th>1486</th>\n",
       "      <td>31</td>\n",
       "      <td>0</td>\n",
       "      <td>0</td>\n",
       "      <td>950000</td>\n",
       "      <td>3</td>\n",
       "      <td>0</td>\n",
       "      <td>0</td>\n",
       "      <td>1</td>\n",
       "      <td>0</td>\n",
       "    </tr>\n",
       "    <tr>\n",
       "      <th>1487</th>\n",
       "      <td>28</td>\n",
       "      <td>0</td>\n",
       "      <td>0</td>\n",
       "      <td>1250000</td>\n",
       "      <td>5</td>\n",
       "      <td>0</td>\n",
       "      <td>1</td>\n",
       "      <td>1</td>\n",
       "      <td>0</td>\n",
       "    </tr>\n",
       "    <tr>\n",
       "      <th>1488</th>\n",
       "      <td>31</td>\n",
       "      <td>1</td>\n",
       "      <td>0</td>\n",
       "      <td>1300000</td>\n",
       "      <td>5</td>\n",
       "      <td>0</td>\n",
       "      <td>1</td>\n",
       "      <td>1</td>\n",
       "      <td>0</td>\n",
       "    </tr>\n",
       "    <tr>\n",
       "      <th>1489</th>\n",
       "      <td>30</td>\n",
       "      <td>0</td>\n",
       "      <td>1</td>\n",
       "      <td>650000</td>\n",
       "      <td>4</td>\n",
       "      <td>0</td>\n",
       "      <td>1</td>\n",
       "      <td>1</td>\n",
       "      <td>0</td>\n",
       "    </tr>\n",
       "  </tbody>\n",
       "</table>\n",
       "<p>1490 rows × 9 columns</p>\n",
       "</div>"
      ],
      "text/plain": [
       "      Age  Employment Type  GraduateOrNot  AnnualIncome  FamilyMembers  \\\n",
       "0      33                0              0        550000              6   \n",
       "1      28                0              0        800000              7   \n",
       "2      31                0              0       1250000              4   \n",
       "3      31                1              1        300000              7   \n",
       "4      28                0              0       1250000              3   \n",
       "...   ...              ...            ...           ...            ...   \n",
       "1485   31                1              1        300000              5   \n",
       "1486   31                0              0        950000              3   \n",
       "1487   28                0              0       1250000              5   \n",
       "1488   31                1              0       1300000              5   \n",
       "1489   30                0              1        650000              4   \n",
       "\n",
       "      ChronicDiseases  FrequentFlyer  EverTravelledAbroad  TravelInsurance  \n",
       "0                   0              1                    1                1  \n",
       "1                   0              0                    1                0  \n",
       "2                   0              1                    1                0  \n",
       "3                   0              1                    1                0  \n",
       "4                   0              1                    1                0  \n",
       "...               ...            ...                  ...              ...  \n",
       "1485                0              1                    1                0  \n",
       "1486                0              0                    1                0  \n",
       "1487                0              1                    1                0  \n",
       "1488                0              1                    1                0  \n",
       "1489                0              1                    1                0  \n",
       "\n",
       "[1490 rows x 9 columns]"
      ]
     },
     "execution_count": 3,
     "metadata": {},
     "output_type": "execute_result"
    }
   ],
   "source": [
    "train = pd.read_csv(\"travel_insurance_prediction_train.csv\")\n",
    "test = pd.read_csv(\"travel_insurance_prediction_test.csv\")\n",
    "\n",
    "train[\"Employment Type\"] = train[\"Employment Type\"].replace([\"Private Sector/Self Employed\"], 0)\n",
    "train[\"Employment Type\"] = train[\"Employment Type\"].replace([\"Government Sector\"], 1)\n",
    "test[\"Employment Type\"] = test[\"Employment Type\"].replace([\"Private Sector/Self Employed\"], 0)\n",
    "test[\"Employment Type\"] = test[\"Employment Type\"].replace([\"Government Sector\"], 1)\n",
    "\n",
    "train[\"GraduateOrNot\"] = train[\"GraduateOrNot\"].replace([\"Yes\"], 0)\n",
    "train[\"GraduateOrNot\"] = train[\"GraduateOrNot\"].replace([\"No\"], 1)\n",
    "test[\"GraduateOrNot\"] = test[\"GraduateOrNot\"].replace([\"Yes\"], 0)\n",
    "test[\"GraduateOrNot\"] = test[\"GraduateOrNot\"].replace([\"No\"], 1)\n",
    "\n",
    "train[\"FrequentFlyer\"] = train[\"FrequentFlyer\"].replace([\"Yes\"], 0)\n",
    "train[\"FrequentFlyer\"] = train[\"FrequentFlyer\"].replace([\"No\"], 1)\n",
    "test[\"FrequentFlyer\"] = test[\"FrequentFlyer\"].replace([\"Yes\"], 0)\n",
    "test[\"FrequentFlyer\"] = test[\"FrequentFlyer\"].replace([\"No\"], 1)\n",
    "\n",
    "train[\"EverTravelledAbroad\"] = train[\"EverTravelledAbroad\"].replace([\"Yes\"], 0)\n",
    "train[\"EverTravelledAbroad\"] = train[\"EverTravelledAbroad\"].replace([\"No\"], 1)\n",
    "test[\"EverTravelledAbroad\"] = test[\"EverTravelledAbroad\"].replace([\"Yes\"], 0)\n",
    "test[\"EverTravelledAbroad\"] = test[\"EverTravelledAbroad\"].replace([\"No\"], 1)\n",
    "\n",
    "train.drop(columns=[\"Customer\"])"
   ]
  },
  {
   "cell_type": "code",
   "execution_count": 4,
   "id": "febc68e9-e3ba-42bd-8ef2-7ce6e9c2f73d",
   "metadata": {},
   "outputs": [],
   "source": [
    "X, y = train.iloc[:, 0:9], train.TravelInsurance"
   ]
  },
  {
   "cell_type": "code",
   "execution_count": 5,
   "id": "52f48768-bb52-4a86-9e12-5b8dd828b82e",
   "metadata": {},
   "outputs": [],
   "source": [
    "X_train, X_test, y_train, y_test = train_test_split(X, y, test_size=0.8, random_state=0)"
   ]
  },
  {
   "cell_type": "code",
   "execution_count": 6,
   "id": "57a61cf8-418b-4e61-80f9-ec6dd338b169",
   "metadata": {},
   "outputs": [
    {
     "data": {
      "text/plain": [
       "(298, 9)"
      ]
     },
     "execution_count": 6,
     "metadata": {},
     "output_type": "execute_result"
    }
   ],
   "source": [
    "X_train.shape\n",
    "X_test.shape"
   ]
  },
  {
   "cell_type": "code",
   "execution_count": 7,
   "id": "7623a97a-3aa1-4b37-b1fd-d1881ee76884",
   "metadata": {},
   "outputs": [
    {
     "data": {
      "text/plain": [
       "0    830\n",
       "1    362\n",
       "Name: Employment Type, dtype: int64"
      ]
     },
     "execution_count": 7,
     "metadata": {},
     "output_type": "execute_result"
    }
   ],
   "source": [
    "X_train[\"Employment Type\"].value_counts()"
   ]
  },
  {
   "cell_type": "markdown",
   "id": "3d5626aa-15f1-4efa-822f-7371cab3e081",
   "metadata": {},
   "source": [
    "-----------------------------------------------------------------------------------------------\n",
    "# SGD Classifier"
   ]
  },
  {
   "cell_type": "code",
   "execution_count": 8,
   "id": "04ce8a12-603a-4f9e-b4a0-ad41756b24d9",
   "metadata": {},
   "outputs": [
    {
     "data": {
      "text/plain": [
       "Pipeline(steps=[('standardscaler', StandardScaler()),\n",
       "                ('sgdclassifier', SGDClassifier(random_state=42))])"
      ]
     },
     "execution_count": 8,
     "metadata": {},
     "output_type": "execute_result"
    }
   ],
   "source": [
    "clf = make_pipeline(StandardScaler(),\n",
    "                   SGDClassifier(random_state=42))\n",
    "clf.fit(X_train, y_train)"
   ]
  },
  {
   "cell_type": "markdown",
   "id": "6b76d6a4-c612-4f4c-aa5e-c4e519757c90",
   "metadata": {},
   "source": [
    "### Metricas en Entrenamiento"
   ]
  },
  {
   "cell_type": "code",
   "execution_count": 9,
   "id": "b0dc020a-abd7-487d-928e-0e54c76cdbff",
   "metadata": {},
   "outputs": [
    {
     "name": "stdout",
     "output_type": "stream",
     "text": [
      "Accuracy Score:  0.7307046979865772\n",
      "Precision Score:  0.631578947368421\n",
      "F1 Score:  0.610909090909091\n",
      "Recall Score:  0.5915492957746479\n"
     ]
    }
   ],
   "source": [
    "y_pred_train = clf.predict(X_train)\n",
    "print('Accuracy Score: ', accuracy_score(y_train, y_pred_train))\n",
    "print('Precision Score: ', precision_score(y_train, y_pred_train))\n",
    "print('F1 Score: ', f1_score(y_train, y_pred_train))\n",
    "print('Recall Score: ', recall_score(y_train, y_pred_train))"
   ]
  },
  {
   "cell_type": "markdown",
   "id": "28bd4256-bd3e-42fd-8ff9-68b7ad3a1fec",
   "metadata": {},
   "source": [
    "### Metricas en Test"
   ]
  },
  {
   "cell_type": "code",
   "execution_count": 10,
   "id": "b485028f-6f52-4bdc-98e3-96785fe6b96e",
   "metadata": {},
   "outputs": [
    {
     "name": "stdout",
     "output_type": "stream",
     "text": [
      "Accuracy Score:  0.7315436241610739\n",
      "Precision Score:  0.6477272727272727\n",
      "F1 Score:  0.5876288659793815\n",
      "Recall Score:  0.5377358490566038\n"
     ]
    }
   ],
   "source": [
    "y_pred_test = clf.predict(X_test)\n",
    "print('Accuracy Score: ', accuracy_score(y_test, y_pred_test))\n",
    "print('Precision Score: ', precision_score(y_test, y_pred_test))\n",
    "print('F1 Score: ', f1_score(y_test, y_pred_test))\n",
    "print('Recall Score: ', recall_score(y_test, y_pred_test))"
   ]
  },
  {
   "cell_type": "markdown",
   "id": "0263f66e-e5e1-4fc2-b614-214ccc1bfbf3",
   "metadata": {},
   "source": [
    "Habria que analizar porque esta dando una accuracy mejor en test que en el mismo entrenamiento. Puede ser por los pocos datos que tenemos?"
   ]
  },
  {
   "cell_type": "code",
   "execution_count": 11,
   "id": "4a37152f-4abb-4335-af40-5ea6cace30ed",
   "metadata": {},
   "outputs": [
    {
     "data": {
      "text/plain": [
       "Pipeline(steps=[('standardscaler', StandardScaler()),\n",
       "                ('gridsearchcv',\n",
       "                 GridSearchCV(cv=4, estimator=SGDClassifier(),\n",
       "                              param_grid={'alpha': [0.0001, 0.001, 0.01, 0.1],\n",
       "                                          'eta0': [0.0001, 0.001, 0.01, 0.1],\n",
       "                                          'learning_rate': ['optimal',\n",
       "                                                            'constant',\n",
       "                                                            'invscaling'],\n",
       "                                          'loss': ['perceptron', 'hinge', 'log',\n",
       "                                                   'squared_loss',\n",
       "                                                   'epsilon_insensitive'],\n",
       "                                          'penalty': ['l2', 'l1', 'none'],\n",
       "                                          'random_state': [42]}))])"
      ]
     },
     "execution_count": 11,
     "metadata": {},
     "output_type": "execute_result"
    }
   ],
   "source": [
    "# Selección de parámetros\n",
    "param_grid = {\n",
    "    'loss': ['perceptron','hinge','log','squared_loss','epsilon_insensitive'],\n",
    "    'penalty' : ['l2', 'l1', 'none'],\n",
    "    'alpha' : [0.0001, 0.001, 0.01, 0.1],\n",
    "    'random_state': [42],\n",
    "    'learning_rate': ['optimal','constant','invscaling'],\n",
    "    'eta0': [0.0001, 0.001, 0.01, 0.1]\n",
    "}\n",
    "\n",
    "best_clf = make_pipeline(StandardScaler(), GridSearchCV(SGDClassifier(), param_grid, cv=4))\n",
    "best_clf.fit(X_train, y_train)"
   ]
  },
  {
   "cell_type": "markdown",
   "id": "146f2848-8b88-4639-8400-605c01165839",
   "metadata": {},
   "source": [
    "### Metricas en Entrenamiento"
   ]
  },
  {
   "cell_type": "code",
   "execution_count": 12,
   "id": "fcde1f67-1c9e-4eaa-887e-9729ca73211e",
   "metadata": {},
   "outputs": [
    {
     "name": "stdout",
     "output_type": "stream",
     "text": [
      "Accuracy Score:  0.7734899328859061\n",
      "Precision Score:  0.7910447761194029\n",
      "F1 Score:  0.6109510086455332\n",
      "Recall Score:  0.49765258215962443\n"
     ]
    }
   ],
   "source": [
    "y_pred_train = best_clf.predict(X_train)\n",
    "print('Accuracy Score: ', accuracy_score(y_train, y_pred_train))\n",
    "print('Precision Score: ', precision_score(y_train, y_pred_train))\n",
    "print('F1 Score: ', f1_score(y_train, y_pred_train))\n",
    "print('Recall Score: ', recall_score(y_train, y_pred_train))"
   ]
  },
  {
   "cell_type": "markdown",
   "id": "f1f34898-64b5-4b04-8b61-4f3d52ccdaf6",
   "metadata": {},
   "source": [
    "### Metricas en Test"
   ]
  },
  {
   "cell_type": "code",
   "execution_count": 13,
   "id": "c3ce9306-231f-4a69-8acd-e05f8275cc3f",
   "metadata": {},
   "outputs": [
    {
     "name": "stdout",
     "output_type": "stream",
     "text": [
      "Accuracy Score:  0.761744966442953\n",
      "Precision Score:  0.7868852459016393\n",
      "F1 Score:  0.5748502994011977\n",
      "Recall Score:  0.4528301886792453\n"
     ]
    }
   ],
   "source": [
    "y_pred_test = best_clf.predict(X_test)\n",
    "print('Accuracy Score: ', accuracy_score(y_test, y_pred_test))\n",
    "print('Precision Score: ', precision_score(y_test, y_pred_test))\n",
    "print('F1 Score: ', f1_score(y_test, y_pred_test))\n",
    "print('Recall Score: ', recall_score(y_test, y_pred_test))"
   ]
  },
  {
   "cell_type": "markdown",
   "id": "2e002614-fc66-456d-8b9c-84a67d6359cd",
   "metadata": {},
   "source": [
    "El tema de este ultimo modelo es que no sabemos que hiperparametros adopto por el pipeline. Pero como sólo tenemos que cargar los datos de prediccion de test podria funcionar"
   ]
  },
  {
   "cell_type": "markdown",
   "id": "5626bfc3-3d30-44e9-9779-e85f8a63dca0",
   "metadata": {},
   "source": [
    "-----------------------------------------------------------------------------------------------\n",
    "# Decision Tree"
   ]
  },
  {
   "cell_type": "markdown",
   "id": "7d60c7aa-7845-49c2-906f-9f35f454cb1c",
   "metadata": {},
   "source": [
    "## Decision Tree Vanilla"
   ]
  },
  {
   "cell_type": "code",
   "execution_count": 14,
   "id": "911a79c6-78a1-4435-ab29-8cbac6c37e99",
   "metadata": {},
   "outputs": [
    {
     "data": {
      "text/plain": [
       "DecisionTreeClassifier(random_state=42)"
      ]
     },
     "execution_count": 14,
     "metadata": {},
     "output_type": "execute_result"
    }
   ],
   "source": [
    "tree_def = DecisionTreeClassifier(random_state=42)\n",
    "tree_def.fit(X_train, y_train)"
   ]
  },
  {
   "cell_type": "code",
   "execution_count": 15,
   "id": "55573168-8596-46f4-9f1f-4543d48cac97",
   "metadata": {},
   "outputs": [
    {
     "name": "stdout",
     "output_type": "stream",
     "text": [
      "Accuracy Score:  1.0\n",
      "Precision Score:  1.0\n",
      "F1 Score:  1.0\n",
      "Recall Score:  1.0\n"
     ]
    }
   ],
   "source": [
    "y_pred = tree_def.predict(X_train)\n",
    "print('Accuracy Score: ', accuracy_score(y_train, y_pred))\n",
    "print('Precision Score: ', precision_score(y_train, y_pred))\n",
    "print('F1 Score: ', f1_score(y_train, y_pred))\n",
    "print('Recall Score: ', recall_score(y_train, y_pred))"
   ]
  },
  {
   "cell_type": "code",
   "execution_count": 16,
   "id": "e3eff36f-8773-456d-9cbe-5d92253b93a5",
   "metadata": {},
   "outputs": [
    {
     "name": "stdout",
     "output_type": "stream",
     "text": [
      "Accuracy Score:  0.7651006711409396\n",
      "Precision Score:  0.6666666666666666\n",
      "F1 Score:  0.6728971962616822\n",
      "Recall Score:  0.6792452830188679\n"
     ]
    }
   ],
   "source": [
    "y_pred_test = tree_def.predict(X_test)\n",
    "print('Accuracy Score: ', accuracy_score(y_test, y_pred_test))\n",
    "print('Precision Score: ', precision_score(y_test, y_pred_test))\n",
    "print('F1 Score: ', f1_score(y_test, y_pred_test))\n",
    "print('Recall Score: ', recall_score(y_test, y_pred_test))"
   ]
  },
  {
   "cell_type": "markdown",
   "id": "8b2dd022-7cb0-4c3e-b207-e41858a093eb",
   "metadata": {},
   "source": [
    "En entrenamiento avanza tanto que divide todos los datos. En test da Accuracy de 0,76"
   ]
  },
  {
   "cell_type": "code",
   "execution_count": 17,
   "id": "97c24142-a7b1-4a13-afa4-c54561dced26",
   "metadata": {},
   "outputs": [
    {
     "data": {
      "text/plain": [
       "GridSearchCV(cv=5, estimator=DecisionTreeClassifier(),\n",
       "             param_grid={'criterion': ['entropy', 'gini'],\n",
       "                         'max_depth': [None, 2, 5, 10, 50],\n",
       "                         'min_samples_leaf': [1, 2, 3, 8, 20, 40, 60]})"
      ]
     },
     "execution_count": 17,
     "metadata": {},
     "output_type": "execute_result"
    }
   ],
   "source": [
    "# Selección de parámetros\n",
    "param_grid = {\n",
    "    'criterion': ['entropy','gini'],\n",
    "    'max_depth': [None,2,5,10,50],\n",
    "    'min_samples_leaf' : [1, 2,3,8,20,40,60]\n",
    "}\n",
    "\n",
    "best_tree = GridSearchCV(DecisionTreeClassifier(), param_grid, cv=5)\n",
    "best_tree.fit(X_train, y_train)"
   ]
  },
  {
   "cell_type": "code",
   "execution_count": 18,
   "id": "8e838416-2b5c-4e84-b013-9f4c041dbcfd",
   "metadata": {},
   "outputs": [
    {
     "name": "stdout",
     "output_type": "stream",
     "text": [
      "Accuracy Score:  0.8355704697986577\n",
      "Precision Score:  0.8938356164383562\n",
      "F1 Score:  0.7270194986072424\n",
      "Recall Score:  0.6126760563380281\n"
     ]
    }
   ],
   "source": [
    "y_pred = best_tree.predict(X_train)\n",
    "print('Accuracy Score: ', accuracy_score(y_train, y_pred))\n",
    "print('Precision Score: ', precision_score(y_train, y_pred))\n",
    "print('F1 Score: ', f1_score(y_train, y_pred))\n",
    "print('Recall Score: ', recall_score(y_train, y_pred))"
   ]
  },
  {
   "cell_type": "code",
   "execution_count": 19,
   "id": "66f56e52-0114-49e0-949c-fa2300b76cd5",
   "metadata": {},
   "outputs": [
    {
     "name": "stdout",
     "output_type": "stream",
     "text": [
      "El mejor score promedio cruzado validado 0.8288632607854858\n",
      "-------------------------------------------------------------------------------------------------\n",
      "El mejor estimador es DecisionTreeClassifier(criterion='entropy', max_depth=5, min_samples_leaf=3)\n",
      "-------------------------------------------------------------------------------------------------\n",
      "Los parámetros que dieron los mejores resultados {'criterion': 'entropy', 'max_depth': 5, 'min_samples_leaf': 3}\n"
     ]
    },
    {
     "data": {
      "text/plain": [
       "<function print>"
      ]
     },
     "execution_count": 19,
     "metadata": {},
     "output_type": "execute_result"
    }
   ],
   "source": [
    "print(\"El mejor score promedio cruzado validado\",best_tree.best_score_)\n",
    "print(\"-------------------------------------------------------------------------------------------------\")\n",
    "print(\"El mejor estimador es\", best_tree.best_estimator_)\n",
    "print(\"-------------------------------------------------------------------------------------------------\")\n",
    "print(\"Los parámetros que dieron los mejores resultados\", best_tree.best_params_)\n",
    "print"
   ]
  },
  {
   "cell_type": "code",
   "execution_count": 20,
   "id": "b1831f40-5b62-4364-8e4f-4cf9ca0640e8",
   "metadata": {},
   "outputs": [
    {
     "name": "stdout",
     "output_type": "stream",
     "text": [
      "Accuracy Score:  0.8489932885906041\n",
      "Precision Score:  0.9692307692307692\n",
      "F1 Score:  0.736842105263158\n",
      "Recall Score:  0.5943396226415094\n"
     ]
    }
   ],
   "source": [
    "y_pred_test = best_tree.predict(X_test)\n",
    "print('Accuracy Score: ', accuracy_score(y_test, y_pred_test))\n",
    "print('Precision Score: ', precision_score(y_test, y_pred_test))\n",
    "print('F1 Score: ', f1_score(y_test, y_pred_test))\n",
    "print('Recall Score: ', recall_score(y_test, y_pred_test))"
   ]
  },
  {
   "cell_type": "markdown",
   "id": "37e030e3-b418-466e-9971-d1758a48d3aa",
   "metadata": {},
   "source": [
    "Aqui tenemos el mejor resultado que ha arrojado un modelo. "
   ]
  },
  {
   "cell_type": "code",
   "execution_count": 21,
   "id": "470afe87-58a6-4948-8072-0115a373f9b8",
   "metadata": {},
   "outputs": [
    {
     "data": {
      "text/plain": [
       "AdaBoostRegressor(n_estimators=100, random_state=0)"
      ]
     },
     "execution_count": 21,
     "metadata": {},
     "output_type": "execute_result"
    }
   ],
   "source": [
    "from sklearn.ensemble import AdaBoostRegressor\n",
    "\n",
    "regr = AdaBoostRegressor(random_state=0, n_estimators=100)\n",
    "regr.fit(X_train, y_train)\n",
    "AdaBoostRegressor(n_estimators=100, random_state=0)"
   ]
  },
  {
   "cell_type": "code",
   "execution_count": 22,
   "id": "7f5eea34-d490-4c55-bcf7-afa55d832567",
   "metadata": {},
   "outputs": [
    {
     "data": {
      "text/plain": [
       "0.38664218991562294"
      ]
     },
     "execution_count": 22,
     "metadata": {},
     "output_type": "execute_result"
    }
   ],
   "source": [
    "regr.score(X_train, y_train)"
   ]
  },
  {
   "cell_type": "markdown",
   "id": "bd8f8fa5-1f8e-49d0-a3e9-33e142cccd4b",
   "metadata": {},
   "source": [
    "-----------------------------------------------------------------------------------------------\n",
    "## SVR\n",
    "El problema de este modelo es que arroja resultados continuos. Lo dejo por si encontramos que podemos modificar su salida con alguna funcion de activacion"
   ]
  },
  {
   "cell_type": "code",
   "execution_count": 23,
   "id": "b7e354fa-58d0-4c84-8bf3-0967a8ccdddf",
   "metadata": {},
   "outputs": [
    {
     "data": {
      "text/plain": [
       "Pipeline(steps=[('standardscaler', StandardScaler()),\n",
       "                ('svr', SVR(epsilon=0.2))])"
      ]
     },
     "execution_count": 23,
     "metadata": {},
     "output_type": "execute_result"
    }
   ],
   "source": [
    "from sklearn.svm import SVR\n",
    "\n",
    "regr = make_pipeline(StandardScaler(), SVR(C=1.0, epsilon=0.2))\n",
    "regr.fit(X_train, y_train)"
   ]
  },
  {
   "cell_type": "code",
   "execution_count": 24,
   "id": "7377cd60-bcef-4ab8-a9de-829164444a42",
   "metadata": {},
   "outputs": [
    {
     "data": {
      "text/plain": [
       "array([0.15395717, 0.28924264, 0.17146898, ..., 0.31427207, 0.7630869 ,\n",
       "       0.15394908])"
      ]
     },
     "execution_count": 24,
     "metadata": {},
     "output_type": "execute_result"
    }
   ],
   "source": [
    "y_pred = regr.predict(X_train)\n",
    "y_pred"
   ]
  },
  {
   "cell_type": "code",
   "execution_count": 25,
   "id": "190cde33-1069-4e3b-a566-34e12b11da01",
   "metadata": {},
   "outputs": [
    {
     "ename": "ValueError",
     "evalue": "Classification metrics can't handle a mix of binary and continuous targets",
     "output_type": "error",
     "traceback": [
      "\u001b[0;31m---------------------------------------------------------------------------\u001b[0m",
      "\u001b[0;31mValueError\u001b[0m                                Traceback (most recent call last)",
      "\u001b[0;32m<ipython-input-25-e8ad1d2ccd7f>\u001b[0m in \u001b[0;36m<module>\u001b[0;34m\u001b[0m\n\u001b[1;32m      1\u001b[0m \u001b[0my_pred\u001b[0m \u001b[0;34m=\u001b[0m \u001b[0mregr\u001b[0m\u001b[0;34m.\u001b[0m\u001b[0mpredict\u001b[0m\u001b[0;34m(\u001b[0m\u001b[0mX_train\u001b[0m\u001b[0;34m)\u001b[0m\u001b[0;34m\u001b[0m\u001b[0;34m\u001b[0m\u001b[0m\n\u001b[0;32m----> 2\u001b[0;31m \u001b[0mprint\u001b[0m\u001b[0;34m(\u001b[0m\u001b[0;34m'Accuracy Score: '\u001b[0m\u001b[0;34m,\u001b[0m \u001b[0maccuracy_score\u001b[0m\u001b[0;34m(\u001b[0m\u001b[0my_train\u001b[0m\u001b[0;34m,\u001b[0m \u001b[0my_pred\u001b[0m\u001b[0;34m)\u001b[0m\u001b[0;34m)\u001b[0m\u001b[0;34m\u001b[0m\u001b[0;34m\u001b[0m\u001b[0m\n\u001b[0m\u001b[1;32m      3\u001b[0m \u001b[0mprint\u001b[0m\u001b[0;34m(\u001b[0m\u001b[0;34m'Precision Score: '\u001b[0m\u001b[0;34m,\u001b[0m \u001b[0mprecision_score\u001b[0m\u001b[0;34m(\u001b[0m\u001b[0my_train\u001b[0m\u001b[0;34m,\u001b[0m \u001b[0my_pred\u001b[0m\u001b[0;34m)\u001b[0m\u001b[0;34m)\u001b[0m\u001b[0;34m\u001b[0m\u001b[0;34m\u001b[0m\u001b[0m\n\u001b[1;32m      4\u001b[0m \u001b[0mprint\u001b[0m\u001b[0;34m(\u001b[0m\u001b[0;34m'F1 Score: '\u001b[0m\u001b[0;34m,\u001b[0m \u001b[0mf1_score\u001b[0m\u001b[0;34m(\u001b[0m\u001b[0my_train\u001b[0m\u001b[0;34m,\u001b[0m \u001b[0my_pred\u001b[0m\u001b[0;34m)\u001b[0m\u001b[0;34m)\u001b[0m\u001b[0;34m\u001b[0m\u001b[0;34m\u001b[0m\u001b[0m\n\u001b[1;32m      5\u001b[0m \u001b[0mprint\u001b[0m\u001b[0;34m(\u001b[0m\u001b[0;34m'Recall Score: '\u001b[0m\u001b[0;34m,\u001b[0m \u001b[0mrecall_score\u001b[0m\u001b[0;34m(\u001b[0m\u001b[0my_train\u001b[0m\u001b[0;34m,\u001b[0m \u001b[0my_pred\u001b[0m\u001b[0;34m)\u001b[0m\u001b[0;34m)\u001b[0m\u001b[0;34m\u001b[0m\u001b[0;34m\u001b[0m\u001b[0m\n",
      "\u001b[0;32m~/opt/anaconda3/lib/python3.8/site-packages/sklearn/utils/validation.py\u001b[0m in \u001b[0;36minner_f\u001b[0;34m(*args, **kwargs)\u001b[0m\n\u001b[1;32m     61\u001b[0m             \u001b[0mextra_args\u001b[0m \u001b[0;34m=\u001b[0m \u001b[0mlen\u001b[0m\u001b[0;34m(\u001b[0m\u001b[0margs\u001b[0m\u001b[0;34m)\u001b[0m \u001b[0;34m-\u001b[0m \u001b[0mlen\u001b[0m\u001b[0;34m(\u001b[0m\u001b[0mall_args\u001b[0m\u001b[0;34m)\u001b[0m\u001b[0;34m\u001b[0m\u001b[0;34m\u001b[0m\u001b[0m\n\u001b[1;32m     62\u001b[0m             \u001b[0;32mif\u001b[0m \u001b[0mextra_args\u001b[0m \u001b[0;34m<=\u001b[0m \u001b[0;36m0\u001b[0m\u001b[0;34m:\u001b[0m\u001b[0;34m\u001b[0m\u001b[0;34m\u001b[0m\u001b[0m\n\u001b[0;32m---> 63\u001b[0;31m                 \u001b[0;32mreturn\u001b[0m \u001b[0mf\u001b[0m\u001b[0;34m(\u001b[0m\u001b[0;34m*\u001b[0m\u001b[0margs\u001b[0m\u001b[0;34m,\u001b[0m \u001b[0;34m**\u001b[0m\u001b[0mkwargs\u001b[0m\u001b[0;34m)\u001b[0m\u001b[0;34m\u001b[0m\u001b[0;34m\u001b[0m\u001b[0m\n\u001b[0m\u001b[1;32m     64\u001b[0m \u001b[0;34m\u001b[0m\u001b[0m\n\u001b[1;32m     65\u001b[0m             \u001b[0;31m# extra_args > 0\u001b[0m\u001b[0;34m\u001b[0m\u001b[0;34m\u001b[0m\u001b[0;34m\u001b[0m\u001b[0m\n",
      "\u001b[0;32m~/opt/anaconda3/lib/python3.8/site-packages/sklearn/metrics/_classification.py\u001b[0m in \u001b[0;36maccuracy_score\u001b[0;34m(y_true, y_pred, normalize, sample_weight)\u001b[0m\n\u001b[1;32m    200\u001b[0m \u001b[0;34m\u001b[0m\u001b[0m\n\u001b[1;32m    201\u001b[0m     \u001b[0;31m# Compute accuracy for each possible representation\u001b[0m\u001b[0;34m\u001b[0m\u001b[0;34m\u001b[0m\u001b[0;34m\u001b[0m\u001b[0m\n\u001b[0;32m--> 202\u001b[0;31m     \u001b[0my_type\u001b[0m\u001b[0;34m,\u001b[0m \u001b[0my_true\u001b[0m\u001b[0;34m,\u001b[0m \u001b[0my_pred\u001b[0m \u001b[0;34m=\u001b[0m \u001b[0m_check_targets\u001b[0m\u001b[0;34m(\u001b[0m\u001b[0my_true\u001b[0m\u001b[0;34m,\u001b[0m \u001b[0my_pred\u001b[0m\u001b[0;34m)\u001b[0m\u001b[0;34m\u001b[0m\u001b[0;34m\u001b[0m\u001b[0m\n\u001b[0m\u001b[1;32m    203\u001b[0m     \u001b[0mcheck_consistent_length\u001b[0m\u001b[0;34m(\u001b[0m\u001b[0my_true\u001b[0m\u001b[0;34m,\u001b[0m \u001b[0my_pred\u001b[0m\u001b[0;34m,\u001b[0m \u001b[0msample_weight\u001b[0m\u001b[0;34m)\u001b[0m\u001b[0;34m\u001b[0m\u001b[0;34m\u001b[0m\u001b[0m\n\u001b[1;32m    204\u001b[0m     \u001b[0;32mif\u001b[0m \u001b[0my_type\u001b[0m\u001b[0;34m.\u001b[0m\u001b[0mstartswith\u001b[0m\u001b[0;34m(\u001b[0m\u001b[0;34m'multilabel'\u001b[0m\u001b[0;34m)\u001b[0m\u001b[0;34m:\u001b[0m\u001b[0;34m\u001b[0m\u001b[0;34m\u001b[0m\u001b[0m\n",
      "\u001b[0;32m~/opt/anaconda3/lib/python3.8/site-packages/sklearn/metrics/_classification.py\u001b[0m in \u001b[0;36m_check_targets\u001b[0;34m(y_true, y_pred)\u001b[0m\n\u001b[1;32m     90\u001b[0m \u001b[0;34m\u001b[0m\u001b[0m\n\u001b[1;32m     91\u001b[0m     \u001b[0;32mif\u001b[0m \u001b[0mlen\u001b[0m\u001b[0;34m(\u001b[0m\u001b[0my_type\u001b[0m\u001b[0;34m)\u001b[0m \u001b[0;34m>\u001b[0m \u001b[0;36m1\u001b[0m\u001b[0;34m:\u001b[0m\u001b[0;34m\u001b[0m\u001b[0;34m\u001b[0m\u001b[0m\n\u001b[0;32m---> 92\u001b[0;31m         raise ValueError(\"Classification metrics can't handle a mix of {0} \"\n\u001b[0m\u001b[1;32m     93\u001b[0m                          \"and {1} targets\".format(type_true, type_pred))\n\u001b[1;32m     94\u001b[0m \u001b[0;34m\u001b[0m\u001b[0m\n",
      "\u001b[0;31mValueError\u001b[0m: Classification metrics can't handle a mix of binary and continuous targets"
     ]
    }
   ],
   "source": [
    "y_pred = regr.predict(X_train)\n",
    "print('Accuracy Score: ', accuracy_score(y_train, y_pred))\n",
    "print('Precision Score: ', precision_score(y_train, y_pred))\n",
    "print('F1 Score: ', f1_score(y_train, y_pred))\n",
    "print('Recall Score: ', recall_score(y_train, y_pred))"
   ]
  },
  {
   "cell_type": "markdown",
   "id": "c9592606-04f8-45dc-bc51-f4500aecf29e",
   "metadata": {},
   "source": [
    "-----------------------------------------------------------------------------------------------\n",
    "## C-Support Vector Classification.\n",
    "Es un modelo que tardo mucho en entrenar. En pc local, aprox 2 minutos con el 20 % de datos de entrenamiento (lo reduje para ello). Adjunto comentado el codigo y por los resultados creo que no vale la pena. Luego lo corro (o si alguno le da paciencia) con el entrenamiento al 80 % como esta seteado. "
   ]
  },
  {
   "cell_type": "code",
   "execution_count": 6,
   "id": "8f0e6ccf-453e-40bb-b9ee-089cc684cb7b",
   "metadata": {},
   "outputs": [],
   "source": [
    "#from sklearn import svm\n",
    "#clf = svm.SVC(kernel='linear', cache_size=7000)"
   ]
  },
  {
   "cell_type": "code",
   "execution_count": 7,
   "id": "8f82d49e-b438-440d-ba66-8ef73728deb8",
   "metadata": {},
   "outputs": [],
   "source": [
    "#clf = clf.fit(X_train, y_train)"
   ]
  },
  {
   "cell_type": "code",
   "execution_count": 8,
   "id": "3ce3989a-0473-4b47-93c8-149b88e643c1",
   "metadata": {},
   "outputs": [
    {
     "name": "stdout",
     "output_type": "stream",
     "text": [
      "Accuracy Score:  0.6812080536912751\n",
      "Precision Score:  0.5346534653465347\n",
      "F1 Score:  0.5320197044334977\n",
      "Recall Score:  0.5294117647058824\n"
     ]
    }
   ],
   "source": [
    "#y_pred = clf.predict(X_train)\n",
    "#print('Accuracy Score: ', accuracy_score(y_train, y_pred))\n",
    "#print('Precision Score: ', precision_score(y_train, y_pred))\n",
    "#print('F1 Score: ', f1_score(y_train, y_pred))\n",
    "#print('Recall Score: ', recall_score(y_train, y_pred))"
   ]
  },
  {
   "cell_type": "markdown",
   "id": "3de64e55-cf10-412d-8657-74ab40430677",
   "metadata": {},
   "source": [
    "\n",
    "<li> Accuracy Score:  0.6812080536912751\n",
    "<li> Precision Score:  0.5346534653465347\n",
    "<li> F1 Score:  0.5320197044334977\n",
    "<li> Recall Score:  0.5294117647058824"
   ]
  },
  {
   "cell_type": "code",
   "execution_count": null,
   "id": "dec10660-fa8f-4a1e-a871-134a38df0621",
   "metadata": {},
   "outputs": [],
   "source": []
  }
 ],
 "metadata": {
  "kernelspec": {
   "display_name": "Python 3",
   "language": "python",
   "name": "python3"
  },
  "language_info": {
   "codemirror_mode": {
    "name": "ipython",
    "version": 3
   },
   "file_extension": ".py",
   "mimetype": "text/x-python",
   "name": "python",
   "nbconvert_exporter": "python",
   "pygments_lexer": "ipython3",
   "version": "3.8.8"
  }
 },
 "nbformat": 4,
 "nbformat_minor": 5
}
