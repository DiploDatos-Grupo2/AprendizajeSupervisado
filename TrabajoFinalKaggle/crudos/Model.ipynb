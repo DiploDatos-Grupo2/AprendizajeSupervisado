{
 "cells": [
  {
   "cell_type": "code",
   "execution_count": 275,
   "id": "bed4e7ce-0514-4183-95c0-e4c264182a4a",
   "metadata": {},
   "outputs": [],
   "source": [
    "#Data\n",
    "import numpy as np\n",
    "import pandas as pd\n",
    "\n",
    "# Model\n",
    "from sklearn.model_selection import train_test_split\n",
    "from sklearn.linear_model import SGDClassifier\n",
    "from sklearn.preprocessing import StandardScaler\n",
    "from sklearn.pipeline import make_pipeline\n",
    "from sklearn.model_selection import GridSearchCV\n",
    "from sklearn.tree import DecisionTreeClassifier\n",
    "\n",
    "# Metricas\n",
    "from sklearn.metrics import accuracy_score\n",
    "from sklearn.metrics import precision_score\n",
    "from sklearn.metrics import f1_score\n",
    "from sklearn.metrics import recall_score\n",
    "from sklearn.metrics import plot_confusion_matrix\n",
    "from sklearn.metrics import r2_score\n",
    "from sklearn.metrics import mean_squared_error\n",
    "from sklearn.metrics import fbeta_score\n",
    "\n",
    "# Plot\n",
    "import matplotlib.pyplot as plt\n",
    "\n",
    "import warnings\n",
    "warnings.filterwarnings('ignore')"
   ]
  },
  {
   "cell_type": "markdown",
   "id": "f163ebad-a06d-4cb6-8841-60aaac105ab9",
   "metadata": {},
   "source": [
    "## Modelos Propuestos:\n",
    "#### <li> Regresion lineal => SGDClassifier ✅\n",
    "#### <li> Arbol de decision ✅\n",
    "#### <li> K vecinos mas cercanos\n",
    "#### <li> Regresion logistica\n",
    "#### <li> SVM\n",
    "#### <li> Random forest"
   ]
  },
  {
   "cell_type": "markdown",
   "id": "fac9ed8e-e645-4ddf-8173-4b71793a3c17",
   "metadata": {},
   "source": [
    "Carga de Datos y Filtrado de Datos"
   ]
  },
  {
   "cell_type": "code",
   "execution_count": 276,
   "id": "d54d78f0-b306-4d9a-badd-498b80bb4547",
   "metadata": {},
   "outputs": [],
   "source": [
    "train = pd.read_csv(\"travel_insurance_prediction_train.csv\")\n",
    "test = pd.read_csv(\"travel_insurance_prediction_test.csv\")\n",
    "\n",
    "train[\"Employment Type\"] = train[\"Employment Type\"].replace([\"Private Sector/Self Employed\"], 0)\n",
    "train[\"Employment Type\"] = train[\"Employment Type\"].replace([\"Government Sector\"], 1)\n",
    "test[\"Employment Type\"] = test[\"Employment Type\"].replace([\"Private Sector/Self Employed\"], 0)\n",
    "test[\"Employment Type\"] = test[\"Employment Type\"].replace([\"Government Sector\"], 1)\n",
    "\n",
    "train[\"GraduateOrNot\"] = train[\"GraduateOrNot\"].replace([\"Yes\"], 0)\n",
    "train[\"GraduateOrNot\"] = train[\"GraduateOrNot\"].replace([\"No\"], 1)\n",
    "test[\"GraduateOrNot\"] = test[\"GraduateOrNot\"].replace([\"Yes\"], 0)\n",
    "test[\"GraduateOrNot\"] = test[\"GraduateOrNot\"].replace([\"No\"], 1)\n",
    "\n",
    "train[\"FrequentFlyer\"] = train[\"FrequentFlyer\"].replace([\"Yes\"], 0)\n",
    "train[\"FrequentFlyer\"] = train[\"FrequentFlyer\"].replace([\"No\"], 1)\n",
    "test[\"FrequentFlyer\"] = test[\"FrequentFlyer\"].replace([\"Yes\"], 0)\n",
    "test[\"FrequentFlyer\"] = test[\"FrequentFlyer\"].replace([\"No\"], 1)\n",
    "\n",
    "train[\"EverTravelledAbroad\"] = train[\"EverTravelledAbroad\"].replace([\"Yes\"], 0)\n",
    "train[\"EverTravelledAbroad\"] = train[\"EverTravelledAbroad\"].replace([\"No\"], 1)\n",
    "test[\"EverTravelledAbroad\"] = test[\"EverTravelledAbroad\"].replace([\"Yes\"], 0)\n",
    "test[\"EverTravelledAbroad\"] = test[\"EverTravelledAbroad\"].replace([\"No\"], 1)\n",
    "\n",
    "#train = train.drop(columns=[\"Customer\"])"
   ]
  },
  {
   "cell_type": "markdown",
   "id": "067aab46-d850-465d-b4de-8555abb83695",
   "metadata": {},
   "source": [
    "Aqui me surgio la duda sobre si esta bien reemplazar las palabras por numeros 0 y 1, o deberiamos aplicar un one hot encoder. Las variables son categoricas son binarias. "
   ]
  },
  {
   "cell_type": "code",
   "execution_count": 277,
   "id": "febc68e9-e3ba-42bd-8ef2-7ce6e9c2f73d",
   "metadata": {},
   "outputs": [],
   "source": [
    "X, y = train.iloc[:, 0:8], train.TravelInsurance"
   ]
  },
  {
   "cell_type": "code",
   "execution_count": 278,
   "id": "52f48768-bb52-4a86-9e12-5b8dd828b82e",
   "metadata": {},
   "outputs": [],
   "source": [
    "X_train, X_test, y_train, y_test = train_test_split(X, y, test_size=0.8, random_state=0)"
   ]
  },
  {
   "cell_type": "code",
   "execution_count": 279,
   "id": "57a61cf8-418b-4e61-80f9-ec6dd338b169",
   "metadata": {},
   "outputs": [
    {
     "data": {
      "text/plain": [
       "(1192, 8)"
      ]
     },
     "execution_count": 279,
     "metadata": {},
     "output_type": "execute_result"
    }
   ],
   "source": [
    "X_train.shape\n",
    "X_test.shape"
   ]
  },
  {
   "cell_type": "code",
   "execution_count": 280,
   "id": "7623a97a-3aa1-4b37-b1fd-d1881ee76884",
   "metadata": {},
   "outputs": [
    {
     "data": {
      "text/plain": [
       "0    205\n",
       "1     93\n",
       "Name: Employment Type, dtype: int64"
      ]
     },
     "execution_count": 280,
     "metadata": {},
     "output_type": "execute_result"
    }
   ],
   "source": [
    "X_train[\"Employment Type\"].value_counts()"
   ]
  },
  {
   "cell_type": "markdown",
   "id": "3d5626aa-15f1-4efa-822f-7371cab3e081",
   "metadata": {},
   "source": [
    "-----------------------------------------------------------------------------------------------\n",
    "# SGD Classifier"
   ]
  },
  {
   "cell_type": "code",
   "execution_count": 281,
   "id": "04ce8a12-603a-4f9e-b4a0-ad41756b24d9",
   "metadata": {},
   "outputs": [
    {
     "data": {
      "text/plain": [
       "Pipeline(steps=[('standardscaler', StandardScaler()),\n",
       "                ('sgdclassifier', SGDClassifier(random_state=42))])"
      ]
     },
     "execution_count": 281,
     "metadata": {},
     "output_type": "execute_result"
    }
   ],
   "source": [
    "clf = make_pipeline(StandardScaler(),\n",
    "                   SGDClassifier(random_state=42))\n",
    "clf.fit(X_train, y_train)"
   ]
  },
  {
   "cell_type": "markdown",
   "id": "6b76d6a4-c612-4f4c-aa5e-c4e519757c90",
   "metadata": {},
   "source": [
    "### Metricas en Entrenamiento"
   ]
  },
  {
   "cell_type": "code",
   "execution_count": 283,
   "id": "b0dc020a-abd7-487d-928e-0e54c76cdbff",
   "metadata": {},
   "outputs": [
    {
     "name": "stdout",
     "output_type": "stream",
     "text": [
      "Accuracy Score:  0.6912751677852349\n",
      "Precision Score:  0.5446428571428571\n",
      "F1 Score:  0.5700934579439252\n",
      "Recall Score:  0.5980392156862745\n",
      "fbeta_score:  0.5545454545454545\n"
     ]
    }
   ],
   "source": [
    "y_pred_train = clf.predict(X_train)\n",
    "print('Accuracy Score: ', accuracy_score(y_train, y_pred_train))\n",
    "print('Precision Score: ', precision_score(y_train, y_pred_train))\n",
    "print('F1 Score: ', f1_score(y_train, y_pred_train))\n",
    "print('Recall Score: ', recall_score(y_train, y_pred_train))\n",
    "print('fbeta_score: ', fbeta_score(y_train, y_pred_train ,average='binary', beta=0.5))"
   ]
  },
  {
   "cell_type": "markdown",
   "id": "28bd4256-bd3e-42fd-8ff9-68b7ad3a1fec",
   "metadata": {},
   "source": [
    "### Metricas en Test"
   ]
  },
  {
   "cell_type": "code",
   "execution_count": 285,
   "id": "b485028f-6f52-4bdc-98e3-96785fe6b96e",
   "metadata": {},
   "outputs": [
    {
     "name": "stdout",
     "output_type": "stream",
     "text": [
      "Accuracy Score:  0.7114093959731543\n",
      "Precision Score:  0.5990783410138248\n",
      "F1 Score:  0.6018518518518517\n",
      "Recall Score:  0.6046511627906976\n",
      "fbeta_score:  0.6001846722068328\n"
     ]
    }
   ],
   "source": [
    "y_pred_test = clf.predict(X_test)\n",
    "print('Accuracy Score: ', accuracy_score(y_test, y_pred_test))\n",
    "print('Precision Score: ', precision_score(y_test, y_pred_test))\n",
    "print('F1 Score: ', f1_score(y_test, y_pred_test))\n",
    "print('Recall Score: ', recall_score(y_test, y_pred_test))\n",
    "print('fbeta_score: ', fbeta_score(y_test, y_pred_test,average='binary', beta=0.5))"
   ]
  },
  {
   "cell_type": "markdown",
   "id": "0263f66e-e5e1-4fc2-b614-214ccc1bfbf3",
   "metadata": {},
   "source": [
    "Habria que analizar porque esta dando una accuracy mejor en test que en el mismo entrenamiento. Puede ser por los pocos datos que tenemos?"
   ]
  },
  {
   "cell_type": "code",
   "execution_count": 286,
   "id": "4a37152f-4abb-4335-af40-5ea6cace30ed",
   "metadata": {},
   "outputs": [
    {
     "data": {
      "text/plain": [
       "Pipeline(steps=[('standardscaler', StandardScaler()),\n",
       "                ('gridsearchcv',\n",
       "                 GridSearchCV(cv=3, estimator=SGDClassifier(),\n",
       "                              param_grid={'alpha': [0.0001, 0.001, 0.01, 0.1],\n",
       "                                          'eta0': [0.0001, 0.001, 0.01, 0.1],\n",
       "                                          'learning_rate': ['optimal',\n",
       "                                                            'constant',\n",
       "                                                            'invscaling'],\n",
       "                                          'loss': ['perceptron', 'hinge', 'log',\n",
       "                                                   'squared_loss',\n",
       "                                                   'epsilon_insensitive'],\n",
       "                                          'penalty': ['l2', 'l1', 'none'],\n",
       "                                          'random_state': [42]}))])"
      ]
     },
     "execution_count": 286,
     "metadata": {},
     "output_type": "execute_result"
    }
   ],
   "source": [
    "# Selección de parámetros\n",
    "param_grid = {\n",
    "    'loss': ['perceptron','hinge','log','squared_loss','epsilon_insensitive'],\n",
    "    'penalty' : ['l2', 'l1', 'none'],\n",
    "    'alpha' : [0.0001, 0.001, 0.01, 0.1],\n",
    "    'random_state': [42],\n",
    "    'learning_rate': ['optimal','constant','invscaling'],\n",
    "    'eta0': [0.0001, 0.001, 0.01, 0.1]\n",
    "}\n",
    "\n",
    "best_clf = make_pipeline(StandardScaler(), GridSearchCV(SGDClassifier(), param_grid, cv=3))\n",
    "best_clf.fit(X_train, y_train)"
   ]
  },
  {
   "cell_type": "markdown",
   "id": "146f2848-8b88-4639-8400-605c01165839",
   "metadata": {},
   "source": [
    "### Metricas en Entrenamiento"
   ]
  },
  {
   "cell_type": "code",
   "execution_count": 288,
   "id": "fcde1f67-1c9e-4eaa-887e-9729ca73211e",
   "metadata": {},
   "outputs": [
    {
     "name": "stdout",
     "output_type": "stream",
     "text": [
      "Accuracy Score:  0.7483221476510067\n",
      "Precision Score:  0.8857142857142857\n",
      "F1 Score:  0.45255474452554745\n",
      "Recall Score:  0.30392156862745096\n",
      "fbeta_score:  0.6404958677685951\n"
     ]
    }
   ],
   "source": [
    "y_pred_train = best_clf.predict(X_train)\n",
    "print('Accuracy Score: ', accuracy_score(y_train, y_pred_train))\n",
    "print('Precision Score: ', precision_score(y_train, y_pred_train))\n",
    "print('F1 Score: ', f1_score(y_train, y_pred_train))\n",
    "print('Recall Score: ', recall_score(y_train, y_pred_train))\n",
    "print('fbeta_score: ', fbeta_score(y_train, y_pred_train ,average='binary', beta=0.5))"
   ]
  },
  {
   "cell_type": "markdown",
   "id": "f1f34898-64b5-4b04-8b61-4f3d52ccdaf6",
   "metadata": {},
   "source": [
    "### Metricas en Test"
   ]
  },
  {
   "cell_type": "code",
   "execution_count": 289,
   "id": "c3ce9306-231f-4a69-8acd-e05f8275cc3f",
   "metadata": {},
   "outputs": [
    {
     "name": "stdout",
     "output_type": "stream",
     "text": [
      "Accuracy Score:  0.7223154362416108\n",
      "Precision Score:  0.8721804511278195\n",
      "F1 Score:  0.4120781527531084\n",
      "Recall Score:  0.26976744186046514\n",
      "fbeta_score:  0.602910602910603\n"
     ]
    }
   ],
   "source": [
    "y_pred_test = best_clf.predict(X_test)\n",
    "print('Accuracy Score: ', accuracy_score(y_test, y_pred_test))\n",
    "print('Precision Score: ', precision_score(y_test, y_pred_test))\n",
    "print('F1 Score: ', f1_score(y_test, y_pred_test))\n",
    "print('Recall Score: ', recall_score(y_test, y_pred_test))\n",
    "print('fbeta_score: ', fbeta_score(y_test, y_pred_test,average='binary', beta=0.5))"
   ]
  },
  {
   "cell_type": "markdown",
   "id": "2e002614-fc66-456d-8b9c-84a67d6359cd",
   "metadata": {},
   "source": [
    "El tema de este ultimo modelo es que no sabemos que hiperparametros adopto por el pipeline. Pero como sólo tenemos que cargar los datos de prediccion de test podria funcionar"
   ]
  },
  {
   "cell_type": "markdown",
   "id": "5626bfc3-3d30-44e9-9779-e85f8a63dca0",
   "metadata": {},
   "source": [
    "-----------------------------------------------------------------------------------------------\n",
    "# Decision Tree"
   ]
  },
  {
   "cell_type": "markdown",
   "id": "7d60c7aa-7845-49c2-906f-9f35f454cb1c",
   "metadata": {},
   "source": [
    "## Decision Tree Vanilla"
   ]
  },
  {
   "cell_type": "code",
   "execution_count": 231,
   "id": "911a79c6-78a1-4435-ab29-8cbac6c37e99",
   "metadata": {},
   "outputs": [
    {
     "data": {
      "text/plain": [
       "DecisionTreeClassifier(random_state=42)"
      ]
     },
     "execution_count": 231,
     "metadata": {},
     "output_type": "execute_result"
    }
   ],
   "source": [
    "tree_def = DecisionTreeClassifier(random_state=42)\n",
    "tree_def.fit(X_train, y_train)"
   ]
  },
  {
   "cell_type": "code",
   "execution_count": 292,
   "id": "55573168-8596-46f4-9f1f-4543d48cac97",
   "metadata": {},
   "outputs": [
    {
     "name": "stdout",
     "output_type": "stream",
     "text": [
      "Accuracy Score:  1.0\n",
      "Precision Score:  1.0\n",
      "F1 Score:  1.0\n",
      "Recall Score:  1.0\n",
      "fbeta_score:  1.0\n"
     ]
    }
   ],
   "source": [
    "y_pred = tree_def.predict(X_train)\n",
    "print('Accuracy Score: ', accuracy_score(y_train, y_pred))\n",
    "print('Precision Score: ', precision_score(y_train, y_pred))\n",
    "print('F1 Score: ', f1_score(y_train, y_pred))\n",
    "print('Recall Score: ', recall_score(y_train, y_pred))\n",
    "print('fbeta_score: ', fbeta_score(y_train, y_pred, average='binary', beta=0.5))"
   ]
  },
  {
   "cell_type": "code",
   "execution_count": 293,
   "id": "e3eff36f-8773-456d-9cbe-5d92253b93a5",
   "metadata": {},
   "outputs": [
    {
     "name": "stdout",
     "output_type": "stream",
     "text": [
      "Accuracy Score:  0.7239932885906041\n",
      "Precision Score:  0.6193853427895981\n",
      "F1 Score:  0.6143024618991794\n",
      "Recall Score:  0.6093023255813953\n",
      "fbeta_score:  0.6173421300659754\n"
     ]
    }
   ],
   "source": [
    "y_pred_test = tree_def.predict(X_test)\n",
    "print('Accuracy Score: ', accuracy_score(y_test, y_pred_test))\n",
    "print('Precision Score: ', precision_score(y_test, y_pred_test))\n",
    "print('F1 Score: ', f1_score(y_test, y_pred_test))\n",
    "print('Recall Score: ', recall_score(y_test, y_pred_test))\n",
    "print('fbeta_score: ', fbeta_score(y_test, y_pred_test,average='binary', beta=0.5))"
   ]
  },
  {
   "cell_type": "markdown",
   "id": "8b2dd022-7cb0-4c3e-b207-e41858a093eb",
   "metadata": {},
   "source": [
    "En entrenamiento avanza tanto que divide todos los datos."
   ]
  },
  {
   "cell_type": "code",
   "execution_count": 294,
   "id": "97c24142-a7b1-4a13-afa4-c54561dced26",
   "metadata": {},
   "outputs": [
    {
     "data": {
      "text/plain": [
       "GridSearchCV(cv=5, estimator=DecisionTreeClassifier(),\n",
       "             param_grid={'criterion': ['entropy', 'gini'],\n",
       "                         'max_depth': [None, 2, 5, 10, 50],\n",
       "                         'min_samples_leaf': [None, 1, 2, 3, 8, 20, 40, 60]})"
      ]
     },
     "execution_count": 294,
     "metadata": {},
     "output_type": "execute_result"
    }
   ],
   "source": [
    "# Selección de parámetros\n",
    "param_grid = {\n",
    "    'criterion': ['entropy','gini'],\n",
    "    'max_depth': [None,2,5,10,50],\n",
    "    'min_samples_leaf' : [None, 1, 2,3,8,20,40,60]\n",
    "}\n",
    "\n",
    "best_tree = GridSearchCV(DecisionTreeClassifier(), param_grid, cv=5)\n",
    "best_tree.fit(X_train, y_train)"
   ]
  },
  {
   "cell_type": "code",
   "execution_count": 296,
   "id": "8e838416-2b5c-4e84-b013-9f4c041dbcfd",
   "metadata": {},
   "outputs": [
    {
     "name": "stdout",
     "output_type": "stream",
     "text": [
      "Accuracy Score:  0.8489932885906041\n",
      "Precision Score:  0.8701298701298701\n",
      "F1 Score:  0.7486033519553071\n",
      "Recall Score:  0.6568627450980392\n",
      "fbeta_score:  0.8170731707317072\n"
     ]
    }
   ],
   "source": [
    "y_pred = best_tree.predict(X_train)\n",
    "print('Accuracy Score: ', accuracy_score(y_train, y_pred))\n",
    "print('Precision Score: ', precision_score(y_train, y_pred))\n",
    "print('F1 Score: ', f1_score(y_train, y_pred))\n",
    "print('Recall Score: ', recall_score(y_train, y_pred))\n",
    "print('fbeta_score: ', fbeta_score(y_train, y_pred ,average='binary', beta=0.5))"
   ]
  },
  {
   "cell_type": "code",
   "execution_count": 297,
   "id": "66f56e52-0114-49e0-949c-fa2300b76cd5",
   "metadata": {},
   "outputs": [
    {
     "name": "stdout",
     "output_type": "stream",
     "text": [
      "El mejor score promedio cruzado validado 0.8324293785310735\n",
      "-------------------------------------------------------------------------------------------------\n",
      "El mejor estimador es DecisionTreeClassifier(max_depth=5, min_samples_leaf=8)\n",
      "-------------------------------------------------------------------------------------------------\n",
      "Los parámetros que dieron los mejores resultados {'criterion': 'gini', 'max_depth': 5, 'min_samples_leaf': 8}\n"
     ]
    }
   ],
   "source": [
    "print(\"El mejor score promedio cruzado validado\",best_tree.best_score_)\n",
    "print(\"-------------------------------------------------------------------------------------------------\")\n",
    "print(\"El mejor estimador es\", best_tree.best_estimator_)\n",
    "print(\"-------------------------------------------------------------------------------------------------\")\n",
    "print(\"Los parámetros que dieron los mejores resultados\", best_tree.best_params_)"
   ]
  },
  {
   "cell_type": "code",
   "execution_count": 298,
   "id": "b1831f40-5b62-4364-8e4f-4cf9ca0640e8",
   "metadata": {},
   "outputs": [
    {
     "name": "stdout",
     "output_type": "stream",
     "text": [
      "Accuracy Score:  0.8137583892617449\n",
      "Precision Score:  0.8312101910828026\n",
      "F1 Score:  0.7016129032258065\n",
      "Recall Score:  0.6069767441860465\n",
      "fbeta_score:  0.7740213523131674\n"
     ]
    }
   ],
   "source": [
    "y_pred_test = best_tree.predict(X_test)\n",
    "print('Accuracy Score: ', accuracy_score(y_test, y_pred_test))\n",
    "print('Precision Score: ', precision_score(y_test, y_pred_test))\n",
    "print('F1 Score: ', f1_score(y_test, y_pred_test))\n",
    "print('Recall Score: ', recall_score(y_test, y_pred_test))\n",
    "print('fbeta_score: ', fbeta_score(y_test, y_pred_test,average='binary', beta=0.5))"
   ]
  },
  {
   "cell_type": "code",
   "execution_count": 238,
   "id": "8d4254b1-c308-4307-884e-fb19beb9cff9",
   "metadata": {},
   "outputs": [],
   "source": [
    "test_id = test[\"Customer\"]\n",
    "test_pred = best_tree.predict(X_test)\n",
    "\n",
    "submission = pd.DataFrame(list(zip(test_id, test_pred)), columns=[\"Customer\", \"TravelInsurance\"])\n",
    "submission.to_csv(\"travel_insurance_submission.csv\", header=True, index=False)"
   ]
  },
  {
   "cell_type": "code",
   "execution_count": null,
   "id": "dd6242c4-3692-40e4-a440-3e7c17d26eb4",
   "metadata": {},
   "outputs": [],
   "source": []
  },
  {
   "cell_type": "code",
   "execution_count": 230,
   "id": "1ef9afab-8ae0-403f-a784-cb03df200ba4",
   "metadata": {},
   "outputs": [],
   "source": [
    "### Adaboost Regressor"
   ]
  },
  {
   "cell_type": "code",
   "execution_count": 197,
   "id": "470afe87-58a6-4948-8072-0115a373f9b8",
   "metadata": {},
   "outputs": [
    {
     "data": {
      "text/plain": [
       "AdaBoostRegressor(n_estimators=100, random_state=0)"
      ]
     },
     "execution_count": 197,
     "metadata": {},
     "output_type": "execute_result"
    }
   ],
   "source": [
    "from sklearn.ensemble import AdaBoostRegressor\n",
    "\n",
    "regr = AdaBoostRegressor(random_state=0, n_estimators=100)\n",
    "regr.fit(X_train, y_train)\n",
    "AdaBoostRegressor(n_estimators=100, random_state=0)"
   ]
  },
  {
   "cell_type": "code",
   "execution_count": 198,
   "id": "7f5eea34-d490-4c55-bcf7-afa55d832567",
   "metadata": {},
   "outputs": [
    {
     "data": {
      "text/plain": [
       "0.34352972634763"
      ]
     },
     "execution_count": 198,
     "metadata": {},
     "output_type": "execute_result"
    }
   ],
   "source": [
    "regr.score(X_train, y_train)"
   ]
  },
  {
   "cell_type": "markdown",
   "id": "bd8f8fa5-1f8e-49d0-a3e9-33e142cccd4b",
   "metadata": {},
   "source": [
    "-----------------------------------------------------------------------------------------------\n",
    "## SVR\n",
    "El problema de este modelo es que arroja resultados continuos. Lo dejo por si encontramos que podemos modificar su salida con alguna funcion de activacion"
   ]
  },
  {
   "cell_type": "code",
   "execution_count": 23,
   "id": "b7e354fa-58d0-4c84-8bf3-0967a8ccdddf",
   "metadata": {},
   "outputs": [
    {
     "data": {
      "text/plain": [
       "Pipeline(steps=[('standardscaler', StandardScaler()),\n",
       "                ('svr', SVR(epsilon=0.2))])"
      ]
     },
     "execution_count": 23,
     "metadata": {},
     "output_type": "execute_result"
    }
   ],
   "source": [
    "from sklearn.svm import SVR\n",
    "\n",
    "regr = make_pipeline(StandardScaler(), SVR(C=1.0, epsilon=0.2))\n",
    "regr.fit(X_train, y_train)"
   ]
  },
  {
   "cell_type": "code",
   "execution_count": 24,
   "id": "7377cd60-bcef-4ab8-a9de-829164444a42",
   "metadata": {},
   "outputs": [
    {
     "data": {
      "text/plain": [
       "array([0.15395717, 0.28924264, 0.17146898, ..., 0.31427207, 0.7630869 ,\n",
       "       0.15394908])"
      ]
     },
     "execution_count": 24,
     "metadata": {},
     "output_type": "execute_result"
    }
   ],
   "source": [
    "y_pred = regr.predict(X_train)\n",
    "y_pred"
   ]
  },
  {
   "cell_type": "code",
   "execution_count": 252,
   "id": "190cde33-1069-4e3b-a566-34e12b11da01",
   "metadata": {},
   "outputs": [
    {
     "ename": "ValueError",
     "evalue": "Classification metrics can't handle a mix of binary and continuous targets",
     "output_type": "error",
     "traceback": [
      "\u001b[0;31m---------------------------------------------------------------------------\u001b[0m",
      "\u001b[0;31mValueError\u001b[0m                                Traceback (most recent call last)",
      "\u001b[0;32m<ipython-input-252-8aad8fac450b>\u001b[0m in \u001b[0;36m<module>\u001b[0;34m\u001b[0m\n\u001b[1;32m      1\u001b[0m \u001b[0my_pred\u001b[0m \u001b[0;34m=\u001b[0m \u001b[0mregr\u001b[0m\u001b[0;34m.\u001b[0m\u001b[0mpredict\u001b[0m\u001b[0;34m(\u001b[0m\u001b[0mX_train\u001b[0m\u001b[0;34m)\u001b[0m\u001b[0;34m\u001b[0m\u001b[0;34m\u001b[0m\u001b[0m\n\u001b[0;32m----> 2\u001b[0;31m \u001b[0mprint\u001b[0m\u001b[0;34m(\u001b[0m\u001b[0;34m'Accuracy Score: '\u001b[0m\u001b[0;34m,\u001b[0m \u001b[0maccuracy_score\u001b[0m\u001b[0;34m(\u001b[0m\u001b[0my_train\u001b[0m\u001b[0;34m,\u001b[0m \u001b[0my_pred\u001b[0m\u001b[0;34m)\u001b[0m\u001b[0;34m)\u001b[0m\u001b[0;34m\u001b[0m\u001b[0;34m\u001b[0m\u001b[0m\n\u001b[0m\u001b[1;32m      3\u001b[0m \u001b[0mprint\u001b[0m\u001b[0;34m(\u001b[0m\u001b[0;34m'Precision Score: '\u001b[0m\u001b[0;34m,\u001b[0m \u001b[0mprecision_score\u001b[0m\u001b[0;34m(\u001b[0m\u001b[0my_train\u001b[0m\u001b[0;34m,\u001b[0m \u001b[0my_pred\u001b[0m\u001b[0;34m)\u001b[0m\u001b[0;34m)\u001b[0m\u001b[0;34m\u001b[0m\u001b[0;34m\u001b[0m\u001b[0m\n\u001b[1;32m      4\u001b[0m \u001b[0mprint\u001b[0m\u001b[0;34m(\u001b[0m\u001b[0;34m'F1 Score: '\u001b[0m\u001b[0;34m,\u001b[0m \u001b[0mf1_score\u001b[0m\u001b[0;34m(\u001b[0m\u001b[0my_train\u001b[0m\u001b[0;34m,\u001b[0m \u001b[0my_pred\u001b[0m\u001b[0;34m)\u001b[0m\u001b[0;34m)\u001b[0m\u001b[0;34m\u001b[0m\u001b[0;34m\u001b[0m\u001b[0m\n\u001b[1;32m      5\u001b[0m \u001b[0mprint\u001b[0m\u001b[0;34m(\u001b[0m\u001b[0;34m'Recall Score: '\u001b[0m\u001b[0;34m,\u001b[0m \u001b[0mrecall_score\u001b[0m\u001b[0;34m(\u001b[0m\u001b[0my_train\u001b[0m\u001b[0;34m,\u001b[0m \u001b[0my_pred\u001b[0m\u001b[0;34m)\u001b[0m\u001b[0;34m)\u001b[0m\u001b[0;34m\u001b[0m\u001b[0;34m\u001b[0m\u001b[0m\n",
      "\u001b[0;32m~/opt/anaconda3/lib/python3.8/site-packages/sklearn/utils/validation.py\u001b[0m in \u001b[0;36minner_f\u001b[0;34m(*args, **kwargs)\u001b[0m\n\u001b[1;32m     61\u001b[0m             \u001b[0mextra_args\u001b[0m \u001b[0;34m=\u001b[0m \u001b[0mlen\u001b[0m\u001b[0;34m(\u001b[0m\u001b[0margs\u001b[0m\u001b[0;34m)\u001b[0m \u001b[0;34m-\u001b[0m \u001b[0mlen\u001b[0m\u001b[0;34m(\u001b[0m\u001b[0mall_args\u001b[0m\u001b[0;34m)\u001b[0m\u001b[0;34m\u001b[0m\u001b[0;34m\u001b[0m\u001b[0m\n\u001b[1;32m     62\u001b[0m             \u001b[0;32mif\u001b[0m \u001b[0mextra_args\u001b[0m \u001b[0;34m<=\u001b[0m \u001b[0;36m0\u001b[0m\u001b[0;34m:\u001b[0m\u001b[0;34m\u001b[0m\u001b[0;34m\u001b[0m\u001b[0m\n\u001b[0;32m---> 63\u001b[0;31m                 \u001b[0;32mreturn\u001b[0m \u001b[0mf\u001b[0m\u001b[0;34m(\u001b[0m\u001b[0;34m*\u001b[0m\u001b[0margs\u001b[0m\u001b[0;34m,\u001b[0m \u001b[0;34m**\u001b[0m\u001b[0mkwargs\u001b[0m\u001b[0;34m)\u001b[0m\u001b[0;34m\u001b[0m\u001b[0;34m\u001b[0m\u001b[0m\n\u001b[0m\u001b[1;32m     64\u001b[0m \u001b[0;34m\u001b[0m\u001b[0m\n\u001b[1;32m     65\u001b[0m             \u001b[0;31m# extra_args > 0\u001b[0m\u001b[0;34m\u001b[0m\u001b[0;34m\u001b[0m\u001b[0;34m\u001b[0m\u001b[0m\n",
      "\u001b[0;32m~/opt/anaconda3/lib/python3.8/site-packages/sklearn/metrics/_classification.py\u001b[0m in \u001b[0;36maccuracy_score\u001b[0;34m(y_true, y_pred, normalize, sample_weight)\u001b[0m\n\u001b[1;32m    200\u001b[0m \u001b[0;34m\u001b[0m\u001b[0m\n\u001b[1;32m    201\u001b[0m     \u001b[0;31m# Compute accuracy for each possible representation\u001b[0m\u001b[0;34m\u001b[0m\u001b[0;34m\u001b[0m\u001b[0;34m\u001b[0m\u001b[0m\n\u001b[0;32m--> 202\u001b[0;31m     \u001b[0my_type\u001b[0m\u001b[0;34m,\u001b[0m \u001b[0my_true\u001b[0m\u001b[0;34m,\u001b[0m \u001b[0my_pred\u001b[0m \u001b[0;34m=\u001b[0m \u001b[0m_check_targets\u001b[0m\u001b[0;34m(\u001b[0m\u001b[0my_true\u001b[0m\u001b[0;34m,\u001b[0m \u001b[0my_pred\u001b[0m\u001b[0;34m)\u001b[0m\u001b[0;34m\u001b[0m\u001b[0;34m\u001b[0m\u001b[0m\n\u001b[0m\u001b[1;32m    203\u001b[0m     \u001b[0mcheck_consistent_length\u001b[0m\u001b[0;34m(\u001b[0m\u001b[0my_true\u001b[0m\u001b[0;34m,\u001b[0m \u001b[0my_pred\u001b[0m\u001b[0;34m,\u001b[0m \u001b[0msample_weight\u001b[0m\u001b[0;34m)\u001b[0m\u001b[0;34m\u001b[0m\u001b[0;34m\u001b[0m\u001b[0m\n\u001b[1;32m    204\u001b[0m     \u001b[0;32mif\u001b[0m \u001b[0my_type\u001b[0m\u001b[0;34m.\u001b[0m\u001b[0mstartswith\u001b[0m\u001b[0;34m(\u001b[0m\u001b[0;34m'multilabel'\u001b[0m\u001b[0;34m)\u001b[0m\u001b[0;34m:\u001b[0m\u001b[0;34m\u001b[0m\u001b[0;34m\u001b[0m\u001b[0m\n",
      "\u001b[0;32m~/opt/anaconda3/lib/python3.8/site-packages/sklearn/metrics/_classification.py\u001b[0m in \u001b[0;36m_check_targets\u001b[0;34m(y_true, y_pred)\u001b[0m\n\u001b[1;32m     90\u001b[0m \u001b[0;34m\u001b[0m\u001b[0m\n\u001b[1;32m     91\u001b[0m     \u001b[0;32mif\u001b[0m \u001b[0mlen\u001b[0m\u001b[0;34m(\u001b[0m\u001b[0my_type\u001b[0m\u001b[0;34m)\u001b[0m \u001b[0;34m>\u001b[0m \u001b[0;36m1\u001b[0m\u001b[0;34m:\u001b[0m\u001b[0;34m\u001b[0m\u001b[0;34m\u001b[0m\u001b[0m\n\u001b[0;32m---> 92\u001b[0;31m         raise ValueError(\"Classification metrics can't handle a mix of {0} \"\n\u001b[0m\u001b[1;32m     93\u001b[0m                          \"and {1} targets\".format(type_true, type_pred))\n\u001b[1;32m     94\u001b[0m \u001b[0;34m\u001b[0m\u001b[0m\n",
      "\u001b[0;31mValueError\u001b[0m: Classification metrics can't handle a mix of binary and continuous targets"
     ]
    }
   ],
   "source": [
    "y_pred = regr.predict(X_train)\n",
    "print('Accuracy Score: ', accuracy_score(y_train, y_pred))\n",
    "print('Precision Score: ', precision_score(y_train, y_pred))\n",
    "print('F1 Score: ', f1_score(y_train, y_pred))\n",
    "print('Recall Score: ', recall_score(y_train, y_pred))\n",
    "#print('fbeta_score: ', fbeta_score(y_train, y_pred ,average='macro', beta=0.5))"
   ]
  },
  {
   "cell_type": "markdown",
   "id": "c9592606-04f8-45dc-bc51-f4500aecf29e",
   "metadata": {},
   "source": [
    "-----------------------------------------------------------------------------------------------\n",
    "## C-Support Vector Classification.\n",
    "Es un modelo que tardo mucho en entrenar. En pc local, aprox 2 minutos con el 20 % de datos de entrenamiento (lo reduje para ello). Adjunto comentado el codigo y por los resultados creo que no vale la pena. Luego lo corro (o si alguno le da paciencia) con el entrenamiento al 80 % como esta seteado. "
   ]
  },
  {
   "cell_type": "code",
   "execution_count": 6,
   "id": "8f0e6ccf-453e-40bb-b9ee-089cc684cb7b",
   "metadata": {},
   "outputs": [],
   "source": [
    "#from sklearn import svm\n",
    "#clf = svm.SVC(kernel='linear', cache_size=7000)"
   ]
  },
  {
   "cell_type": "code",
   "execution_count": 7,
   "id": "8f82d49e-b438-440d-ba66-8ef73728deb8",
   "metadata": {},
   "outputs": [],
   "source": [
    "#clf = clf.fit(X_train, y_train)"
   ]
  },
  {
   "cell_type": "code",
   "execution_count": 8,
   "id": "3ce3989a-0473-4b47-93c8-149b88e643c1",
   "metadata": {},
   "outputs": [
    {
     "name": "stdout",
     "output_type": "stream",
     "text": [
      "Accuracy Score:  0.6812080536912751\n",
      "Precision Score:  0.5346534653465347\n",
      "F1 Score:  0.5320197044334977\n",
      "Recall Score:  0.5294117647058824\n"
     ]
    }
   ],
   "source": [
    "#y_pred = clf.predict(X_train)\n",
    "#print('Accuracy Score: ', accuracy_score(y_train, y_pred))\n",
    "#print('Precision Score: ', precision_score(y_train, y_pred))\n",
    "#print('F1 Score: ', f1_score(y_train, y_pred))\n",
    "#print('Recall Score: ', recall_score(y_train, y_pred))"
   ]
  },
  {
   "cell_type": "markdown",
   "id": "3de64e55-cf10-412d-8657-74ab40430677",
   "metadata": {},
   "source": [
    "\n",
    "<li> Accuracy Score:  0.6812080536912751\n",
    "<li> Precision Score:  0.5346534653465347\n",
    "<li> F1 Score:  0.5320197044334977\n",
    "<li> Recall Score:  0.5294117647058824"
   ]
  },
  {
   "cell_type": "markdown",
   "id": "7981e4ef-6905-45ee-ad49-c14209f71133",
   "metadata": {},
   "source": [
    "## Support Vector Machine"
   ]
  },
  {
   "cell_type": "code",
   "execution_count": 299,
   "id": "7d52d14d-fd45-4d95-9775-2156ce85c98b",
   "metadata": {},
   "outputs": [
    {
     "data": {
      "text/plain": [
       "SVC(C=1, cache_size=2000)"
      ]
     },
     "execution_count": 299,
     "metadata": {},
     "output_type": "execute_result"
    }
   ],
   "source": [
    "from sklearn import svm\n",
    "clf = svm.SVC(kernel=\"rbf\", C=1, cache_size=2000, )\n",
    "clf.fit(X_train, y_train)"
   ]
  },
  {
   "cell_type": "code",
   "execution_count": 300,
   "id": "717fe095-b3a8-42a5-9e93-4ad4e732af70",
   "metadata": {},
   "outputs": [
    {
     "name": "stdout",
     "output_type": "stream",
     "text": [
      "Accuracy Score:  0.7986577181208053\n",
      "Precision Score:  0.9038461538461539\n",
      "F1 Score:  0.6103896103896104\n",
      "Recall Score:  0.46078431372549017\n",
      "fbeta_score:  0.7836932750136686\n"
     ]
    }
   ],
   "source": [
    "y_pred = clf.predict(X_train)\n",
    "print('Accuracy Score: ', accuracy_score(y_train, y_pred))\n",
    "print('Precision Score: ', precision_score(y_train, y_pred))\n",
    "print('F1 Score: ', f1_score(y_train, y_pred))\n",
    "print('Recall Score: ', recall_score(y_train, y_pred))\n",
    "print('fbeta_score: ', fbeta_score(y_train, y_pred ,average='macro', beta=0.5))"
   ]
  },
  {
   "cell_type": "code",
   "execution_count": 301,
   "id": "1f2ea3c0-9872-40c4-a22a-1a69e0254ff1",
   "metadata": {},
   "outputs": [],
   "source": [
    "#Este no me lo corrio. Deje la compu 1 hora y no funco. \n",
    "#parameters = {\"kernel\":(\"linear\", \"rbf\"), \"C\":[1, 10]}\n",
    "#svc = svm.SVC()\n",
    "#clf = GridSearchCV(svc, parameters)\n",
    "#clf.fit(X_train, y_train)"
   ]
  },
  {
   "cell_type": "code",
   "execution_count": 302,
   "id": "dc768634-da4c-4aef-bce7-5de48a779349",
   "metadata": {},
   "outputs": [
    {
     "name": "stdout",
     "output_type": "stream",
     "text": [
      "SVM con Kernel rbf, dio accuracy de 0,7986\n",
      "SVM con Kernel Linear, dio accuracy de 0,6812\n",
      "SVM con Kernel Poly, dio accuracy de 0,7885\n",
      "SVM con Kernel Sigmoid, dio accuracy de 0,4832\n",
      "SVM con Kernel rbf + gamma auto da accuracy de 1 en train, pero en test 0,63\n"
     ]
    }
   ],
   "source": [
    "print(\"SVM con Kernel rbf, dio accuracy de 0,7986\")\n",
    "print(\"SVM con Kernel Linear, dio accuracy de 0,6812\")\n",
    "print(\"SVM con Kernel Poly, dio accuracy de 0,7885\")\n",
    "print(\"SVM con Kernel Sigmoid, dio accuracy de 0,4832\")\n",
    "print(\"SVM con Kernel rbf + gamma auto da accuracy de 1 en train, pero en test 0,63\")"
   ]
  },
  {
   "cell_type": "code",
   "execution_count": 304,
   "id": "aab6702b-dfc6-428d-b4e9-bd212d03c2b2",
   "metadata": {},
   "outputs": [
    {
     "name": "stdout",
     "output_type": "stream",
     "text": [
      "Accuracy Score:  0.7827181208053692\n",
      "Precision Score:  0.8976744186046511\n",
      "F1 Score:  0.5984496124031008\n",
      "Recall Score:  0.44883720930232557\n",
      "fbeta_score:  0.7701766180303106\n"
     ]
    }
   ],
   "source": [
    "y_pred = clf.predict(X_test)\n",
    "print('Accuracy Score: ', accuracy_score(y_test, y_pred))\n",
    "print('Precision Score: ', precision_score(y_test, y_pred))\n",
    "print('F1 Score: ', f1_score(y_test, y_pred))\n",
    "print('Recall Score: ', recall_score(y_test, y_pred))\n",
    "print('fbeta_score: ', fbeta_score(y_test, y_pred,average='macro', beta=0.5))"
   ]
  },
  {
   "cell_type": "code",
   "execution_count": 305,
   "id": "4b9b337d-b93e-4060-bb5c-412553b4412f",
   "metadata": {},
   "outputs": [
    {
     "data": {
      "text/plain": [
       "Pipeline(steps=[('standardscaler', StandardScaler()),\n",
       "                ('svc', SVC(gamma='auto', kernel='poly'))])"
      ]
     },
     "execution_count": 305,
     "metadata": {},
     "output_type": "execute_result"
    }
   ],
   "source": [
    "clf = make_pipeline(StandardScaler(), svm.SVC(kernel=\"poly\", gamma=\"auto\"))\n",
    "clf.fit(X_train, y_train)"
   ]
  },
  {
   "cell_type": "code",
   "execution_count": 306,
   "id": "8ef90ff8-b900-4464-a569-fffe3c14e0f4",
   "metadata": {},
   "outputs": [
    {
     "name": "stdout",
     "output_type": "stream",
     "text": [
      "Accuracy Score:  0.8322147651006712\n",
      "Precision Score:  0.9333333333333333\n",
      "F1 Score:  0.6913580246913581\n",
      "Recall Score:  0.5490196078431373\n",
      "fbeta_score:  0.8274751920451535\n"
     ]
    }
   ],
   "source": [
    "y_pred = clf.predict(X_train)\n",
    "print('Accuracy Score: ', accuracy_score(y_train, y_pred))\n",
    "print('Precision Score: ', precision_score(y_train, y_pred))\n",
    "print('F1 Score: ', f1_score(y_train, y_pred))\n",
    "print('Recall Score: ', recall_score(y_train, y_pred))\n",
    "print('fbeta_score: ', fbeta_score(y_train, y_pred ,average='macro', beta=0.5))"
   ]
  },
  {
   "cell_type": "code",
   "execution_count": 308,
   "id": "ff8aaf88-4cde-4f0e-8cdb-e4559e7c753f",
   "metadata": {},
   "outputs": [
    {
     "name": "stdout",
     "output_type": "stream",
     "text": [
      "Accuracy Score:  0.712248322147651\n",
      "Precision Score:  0.7142857142857143\n",
      "F1 Score:  0.45813586097946285\n",
      "Recall Score:  0.3372093023255814\n",
      "fbeta_score:  0.5837359098228664\n"
     ]
    }
   ],
   "source": [
    "y_pred = clf.predict(X_test)\n",
    "print('Accuracy Score: ', accuracy_score(y_test, y_pred))\n",
    "print('Precision Score: ', precision_score(y_test, y_pred))\n",
    "print('F1 Score: ', f1_score(y_test, y_pred))\n",
    "print('Recall Score: ', recall_score(y_test, y_pred))\n",
    "print('fbeta_score: ', fbeta_score(y_test, y_pred,average='binary', beta=0.5))"
   ]
  },
  {
   "cell_type": "markdown",
   "id": "2d27755b-feb1-4e69-91cb-c8991e48a0f1",
   "metadata": {},
   "source": [
    "## KMeans"
   ]
  },
  {
   "cell_type": "code",
   "execution_count": 309,
   "id": "09fe65e3-73c1-4ccf-9f2a-f3f31d5b907e",
   "metadata": {},
   "outputs": [
    {
     "data": {
      "text/plain": [
       "KNeighborsRegressor(n_neighbors=1)"
      ]
     },
     "execution_count": 309,
     "metadata": {},
     "output_type": "execute_result"
    }
   ],
   "source": [
    "from sklearn.neighbors import KNeighborsRegressor\n",
    "neigh = KNeighborsRegressor(n_neighbors=1)\n",
    "neigh.fit(X_train, y_train)"
   ]
  },
  {
   "cell_type": "code",
   "execution_count": 310,
   "id": "e208f694-832a-4595-b743-c11dbcf3c9e3",
   "metadata": {},
   "outputs": [
    {
     "name": "stdout",
     "output_type": "stream",
     "text": [
      "Accuracy Score:  1.0\n",
      "Precision Score:  1.0\n",
      "F1 Score:  1.0\n",
      "Recall Score:  1.0\n",
      "fbeta_score:  1.0\n"
     ]
    }
   ],
   "source": [
    "y_pred = neigh.predict(X_train)\n",
    "print('Accuracy Score: ', accuracy_score(y_train, y_pred))\n",
    "print('Precision Score: ', precision_score(y_train, y_pred))\n",
    "print('F1 Score: ', f1_score(y_train, y_pred))\n",
    "print('Recall Score: ', recall_score(y_train, y_pred))\n",
    "print('fbeta_score: ', fbeta_score(y_train, y_pred ,average='macro', beta=0.5))"
   ]
  },
  {
   "cell_type": "code",
   "execution_count": 311,
   "id": "e38e013d-38bd-49cb-a038-a6151dcdf151",
   "metadata": {},
   "outputs": [
    {
     "name": "stdout",
     "output_type": "stream",
     "text": [
      "Accuracy Score:  0.6761744966442953\n",
      "Precision Score:  0.5462184873949579\n",
      "F1 Score:  0.5739514348785871\n",
      "Recall Score:  0.6046511627906976\n",
      "fbeta_score:  0.5569837189374465\n"
     ]
    }
   ],
   "source": [
    "y_pred = neigh.predict(X_test)\n",
    "print('Accuracy Score: ', accuracy_score(y_test, y_pred))\n",
    "print('Precision Score: ', precision_score(y_test, y_pred))\n",
    "print('F1 Score: ', f1_score(y_test, y_pred))\n",
    "print('Recall Score: ', recall_score(y_test, y_pred))\n",
    "print('fbeta_score: ', fbeta_score(y_test, y_pred,average='binary', beta=0.5))"
   ]
  },
  {
   "cell_type": "code",
   "execution_count": 312,
   "id": "bd071fdb-7147-4545-b195-0aac6f53e9fa",
   "metadata": {},
   "outputs": [
    {
     "data": {
      "text/plain": [
       "GridSearchCV(cv=5, estimator=KNeighborsRegressor(),\n",
       "             param_grid={'algorithm': ['auto', 'KDTree', 'ball_tree', 'brute'],\n",
       "                         'n_neighbors': [1],\n",
       "                         'weights': ['uniform', 'distance']})"
      ]
     },
     "execution_count": 312,
     "metadata": {},
     "output_type": "execute_result"
    }
   ],
   "source": [
    "# Selección de parámetros\n",
    "param_grid = {\n",
    "    'weights': ['uniform','distance'],\n",
    "    'algorithm': [\"auto\", \"KDTree\", 'ball_tree', 'brute'],\n",
    "    'n_neighbors': [1]\n",
    "}\n",
    "\n",
    "best_knn = GridSearchCV(KNeighborsRegressor(), param_grid, cv=5)\n",
    "best_knn.fit(X_train, y_train)"
   ]
  },
  {
   "cell_type": "code",
   "execution_count": 313,
   "id": "80a5159c-84b1-4d16-be4f-ce7d7e33c961",
   "metadata": {},
   "outputs": [
    {
     "name": "stdout",
     "output_type": "stream",
     "text": [
      "Accuracy Score:  1.0\n",
      "Precision Score:  1.0\n",
      "F1 Score:  1.0\n",
      "Recall Score:  1.0\n",
      "fbeta_score:  1.0\n"
     ]
    }
   ],
   "source": [
    "y_pred = best_knn.predict(X_train)\n",
    "print('Accuracy Score: ', accuracy_score(y_train, y_pred))\n",
    "print('Precision Score: ', precision_score(y_train, y_pred))\n",
    "print('F1 Score: ', f1_score(y_train, y_pred))\n",
    "print('Recall Score: ', recall_score(y_train, y_pred))\n",
    "print('fbeta_score: ', fbeta_score(y_train, y_pred, average='binary', beta=0.5))"
   ]
  },
  {
   "cell_type": "code",
   "execution_count": 314,
   "id": "6d62b3af-4429-427b-8cb3-1ac18bc89d9a",
   "metadata": {},
   "outputs": [
    {
     "name": "stdout",
     "output_type": "stream",
     "text": [
      "Accuracy Score:  0.6761744966442953\n",
      "Precision Score:  0.5462184873949579\n",
      "F1 Score:  0.5739514348785871\n",
      "Recall Score:  0.6046511627906976\n",
      "fbeta_score:  0.5569837189374465\n"
     ]
    }
   ],
   "source": [
    "y_pred = best_knn.predict(X_test)\n",
    "print('Accuracy Score: ', accuracy_score(y_test, y_pred))\n",
    "print('Precision Score: ', precision_score(y_test, y_pred))\n",
    "print('F1 Score: ', f1_score(y_test, y_pred))\n",
    "print('Recall Score: ', recall_score(y_test, y_pred))\n",
    "print('fbeta_score: ', fbeta_score(y_test, y_pred,average='binary', beta=0.5))"
   ]
  },
  {
   "cell_type": "code",
   "execution_count": 315,
   "id": "b8164746-8622-4121-9845-77855b0d5a88",
   "metadata": {},
   "outputs": [
    {
     "name": "stdout",
     "output_type": "stream",
     "text": [
      "El mejor score promedio cruzado validado -0.42907289851904273\n",
      "-------------------------------------------------------------------------------------------------\n",
      "El mejor estimador es KNeighborsRegressor(n_neighbors=1)\n",
      "-------------------------------------------------------------------------------------------------\n",
      "Los parámetros que dieron los mejores resultados {'algorithm': 'auto', 'n_neighbors': 1, 'weights': 'uniform'}\n"
     ]
    }
   ],
   "source": [
    "print(\"El mejor score promedio cruzado validado\",best_knn.best_score_)\n",
    "print(\"-------------------------------------------------------------------------------------------------\")\n",
    "print(\"El mejor estimador es\", best_knn.best_estimator_)\n",
    "print(\"-------------------------------------------------------------------------------------------------\")\n",
    "print(\"Los parámetros que dieron los mejores resultados\", best_knn.best_params_)"
   ]
  },
  {
   "cell_type": "markdown",
   "id": "2914f4b2-2673-4b96-88f7-274354539e60",
   "metadata": {},
   "source": [
    "## Logistic Regression"
   ]
  },
  {
   "cell_type": "code",
   "execution_count": 316,
   "id": "58d4673f-913d-468f-9a77-5b49750af6d2",
   "metadata": {},
   "outputs": [],
   "source": [
    "from sklearn.linear_model import LogisticRegression\n",
    "\n",
    "clf = LogisticRegression(random_state=0).fit(X_train, y_train)"
   ]
  },
  {
   "cell_type": "code",
   "execution_count": 318,
   "id": "f6099603-541a-4337-b2c4-ee7c7eef157c",
   "metadata": {},
   "outputs": [
    {
     "name": "stdout",
     "output_type": "stream",
     "text": [
      "Accuracy Score:  0.62751677852349\n",
      "Precision Score:  0.4482758620689655\n",
      "F1 Score:  0.41269841269841273\n",
      "Recall Score:  0.38235294117647056\n",
      "fbeta_score:  0.4333333333333333\n"
     ]
    }
   ],
   "source": [
    "y_pred = clf.predict(X_train)\n",
    "print('Accuracy Score: ', accuracy_score(y_train, y_pred))\n",
    "print('Precision Score: ', precision_score(y_train, y_pred))\n",
    "print('F1 Score: ', f1_score(y_train, y_pred))\n",
    "print('Recall Score: ', recall_score(y_train, y_pred))\n",
    "print('fbeta_score: ', fbeta_score(y_train, y_pred, average='binary', beta=0.5))"
   ]
  },
  {
   "cell_type": "code",
   "execution_count": 319,
   "id": "5ecb2e72-58c7-446f-b65f-ec8858038abc",
   "metadata": {},
   "outputs": [
    {
     "name": "stdout",
     "output_type": "stream",
     "text": [
      "Accuracy Score:  0.6157718120805369\n",
      "Precision Score:  0.45364238410596025\n",
      "F1 Score:  0.3743169398907104\n",
      "Recall Score:  0.3186046511627907\n",
      "fbeta_score:  0.41819291819291815\n"
     ]
    }
   ],
   "source": [
    "y_pred = clf.predict(X_test)\n",
    "print('Accuracy Score: ', accuracy_score(y_test, y_pred))\n",
    "print('Precision Score: ', precision_score(y_test, y_pred))\n",
    "print('F1 Score: ', f1_score(y_test, y_pred))\n",
    "print('Recall Score: ', recall_score(y_test, y_pred))\n",
    "print('fbeta_score: ', fbeta_score(y_test, y_pred,average='binary', beta=0.5))"
   ]
  },
  {
   "cell_type": "markdown",
   "id": "13a6184e-f5f5-40e5-97bd-f364a9f5ab34",
   "metadata": {},
   "source": [
    "## Random Forest"
   ]
  },
  {
   "cell_type": "code",
   "execution_count": 320,
   "id": "4bcc9bfe-9d30-41c8-bb4d-63ebd1692d31",
   "metadata": {},
   "outputs": [
    {
     "data": {
      "text/plain": [
       "RandomForestClassifier(max_depth=2, random_state=0)"
      ]
     },
     "execution_count": 320,
     "metadata": {},
     "output_type": "execute_result"
    }
   ],
   "source": [
    "from sklearn.ensemble import RandomForestClassifier\n",
    "\n",
    "clf = RandomForestClassifier(max_depth=2, random_state=0)\n",
    "clf.fit(X_train, y_train)"
   ]
  },
  {
   "cell_type": "code",
   "execution_count": 321,
   "id": "d90fe328-1b1a-42be-81f9-ee8f00a367aa",
   "metadata": {},
   "outputs": [
    {
     "name": "stdout",
     "output_type": "stream",
     "text": [
      "Accuracy Score:  0.7986577181208053\n",
      "Precision Score:  0.9038461538461539\n",
      "F1 Score:  0.6103896103896104\n",
      "Recall Score:  0.46078431372549017\n",
      "fbeta_score:  0.7580645161290321\n"
     ]
    }
   ],
   "source": [
    "y_pred = clf.predict(X_train)\n",
    "print('Accuracy Score: ', accuracy_score(y_train, y_pred))\n",
    "print('Precision Score: ', precision_score(y_train, y_pred))\n",
    "print('F1 Score: ', f1_score(y_train, y_pred))\n",
    "print('Recall Score: ', recall_score(y_train, y_pred))\n",
    "print('fbeta_score: ', fbeta_score(y_train, y_pred ,average='binary', beta=0.5))"
   ]
  },
  {
   "cell_type": "code",
   "execution_count": 322,
   "id": "5f336848-50af-4fdc-add3-bffd9f7ce74d",
   "metadata": {},
   "outputs": [
    {
     "name": "stdout",
     "output_type": "stream",
     "text": [
      "Accuracy Score:  0.7843959731543624\n",
      "Precision Score:  0.909952606635071\n",
      "F1 Score:  0.5990639625585022\n",
      "Recall Score:  0.44651162790697674\n",
      "fbeta_score:  0.7535321821036107\n"
     ]
    }
   ],
   "source": [
    "y_pred = clf.predict(X_test)\n",
    "print('Accuracy Score: ', accuracy_score(y_test, y_pred))\n",
    "print('Precision Score: ', precision_score(y_test, y_pred))\n",
    "print('F1 Score: ', f1_score(y_test, y_pred))\n",
    "print('Recall Score: ', recall_score(y_test, y_pred))\n",
    "print('fbeta_score: ', fbeta_score(y_test, y_pred,average='binary', beta=0.5))"
   ]
  },
  {
   "cell_type": "code",
   "execution_count": 219,
   "id": "e5571154-9b14-48a1-851a-6b1fe0f98c62",
   "metadata": {},
   "outputs": [],
   "source": [
    "#customer = test[\"Customer\"]\n",
    "#test = test.drop(columns=[\"Customer\"])"
   ]
  },
  {
   "cell_type": "code",
   "execution_count": 220,
   "id": "3059d1f7-5387-41d8-b612-077745ce85e4",
   "metadata": {},
   "outputs": [],
   "source": [
    "#y_final = clf.predict(test)"
   ]
  },
  {
   "cell_type": "code",
   "execution_count": 226,
   "id": "a4d5fd41-a0f1-41d7-bdb0-f7a6877bd35d",
   "metadata": {},
   "outputs": [],
   "source": [
    "#test_id = test[\"Customer\"]\n",
    "#test_pred = clf.predict(test)\n",
    "#test_pred[\"Customer\"] = customer"
   ]
  },
  {
   "cell_type": "code",
   "execution_count": 323,
   "id": "52c9f636-d925-4337-a654-982e8a84f859",
   "metadata": {},
   "outputs": [],
   "source": [
    "test_id = test[\"Customer\"]\n",
    "test_pred = clf.predict(X_test)\n",
    "\n",
    "submission = pd.DataFrame(list(zip(test_id, test_pred)), columns=[\"Customer\", \"TravelInsurance\"])\n",
    "submission.to_csv(\"travel_insurance_submission.csv\", header=True, index=False)"
   ]
  },
  {
   "cell_type": "code",
   "execution_count": null,
   "id": "e6bf0b9d-c4f0-44ef-b1ec-9ed15d51b660",
   "metadata": {},
   "outputs": [],
   "source": []
  }
 ],
 "metadata": {
  "kernelspec": {
   "display_name": "Python 3",
   "language": "python",
   "name": "python3"
  },
  "language_info": {
   "codemirror_mode": {
    "name": "ipython",
    "version": 3
   },
   "file_extension": ".py",
   "mimetype": "text/x-python",
   "name": "python",
   "nbconvert_exporter": "python",
   "pygments_lexer": "ipython3",
   "version": "3.8.8"
  }
 },
 "nbformat": 4,
 "nbformat_minor": 5
}
