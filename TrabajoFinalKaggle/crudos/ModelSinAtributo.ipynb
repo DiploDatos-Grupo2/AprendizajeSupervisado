{
 "cells": [
  {
   "cell_type": "code",
   "execution_count": 207,
   "id": "bed4e7ce-0514-4183-95c0-e4c264182a4a",
   "metadata": {},
   "outputs": [],
   "source": [
    "#Data\n",
    "import numpy as np\n",
    "import pandas as pd\n",
    "\n",
    "# Model\n",
    "from sklearn.model_selection import train_test_split\n",
    "from sklearn.linear_model import SGDClassifier\n",
    "from sklearn.preprocessing import StandardScaler\n",
    "from sklearn.preprocessing import RobustScaler, MinMaxScaler\n",
    "from sklearn.pipeline import make_pipeline\n",
    "from sklearn.model_selection import GridSearchCV\n",
    "from sklearn.tree import DecisionTreeClassifier\n",
    "\n",
    "# Metricas\n",
    "from sklearn.metrics import accuracy_score\n",
    "from sklearn.metrics import precision_score\n",
    "from sklearn.metrics import f1_score\n",
    "from sklearn.metrics import recall_score\n",
    "from sklearn.metrics import plot_confusion_matrix\n",
    "\n",
    "# Plot\n",
    "import matplotlib.pyplot as plt\n",
    "\n",
    "import warnings\n",
    "warnings.filterwarnings('ignore')"
   ]
  },
  {
   "cell_type": "markdown",
   "id": "f163ebad-a06d-4cb6-8841-60aaac105ab9",
   "metadata": {},
   "source": [
    "## Idem MOdel.py, pero quitando columna EmploymentType\n"
   ]
  },
  {
   "cell_type": "markdown",
   "id": "fac9ed8e-e645-4ddf-8173-4b71793a3c17",
   "metadata": {},
   "source": [
    "Carga de Datos y Filtrado de Datos"
   ]
  },
  {
   "cell_type": "code",
   "execution_count": 208,
   "id": "d54d78f0-b306-4d9a-badd-498b80bb4547",
   "metadata": {},
   "outputs": [],
   "source": [
    "train = pd.read_csv(\"travel_insurance_prediction_train.csv\")\n",
    "test = pd.read_csv(\"travel_insurance_prediction_test.csv\")\n",
    "\n",
    "train[\"Employment Type\"] = train[\"Employment Type\"].replace([\"Private Sector/Self Employed\"], 0)\n",
    "train[\"Employment Type\"] = train[\"Employment Type\"].replace([\"Government Sector\"], 1)\n",
    "test[\"Employment Type\"] = test[\"Employment Type\"].replace([\"Private Sector/Self Employed\"], 0)\n",
    "test[\"Employment Type\"] = test[\"Employment Type\"].replace([\"Government Sector\"], 1)\n",
    "\n",
    "train[\"GraduateOrNot\"] = train[\"GraduateOrNot\"].replace([\"Yes\"], 0)\n",
    "train[\"GraduateOrNot\"] = train[\"GraduateOrNot\"].replace([\"No\"], 1)\n",
    "test[\"GraduateOrNot\"] = test[\"GraduateOrNot\"].replace([\"Yes\"], 0)\n",
    "test[\"GraduateOrNot\"] = test[\"GraduateOrNot\"].replace([\"No\"], 1)\n",
    "\n",
    "train[\"FrequentFlyer\"] = train[\"FrequentFlyer\"].replace([\"Yes\"], 0)\n",
    "train[\"FrequentFlyer\"] = train[\"FrequentFlyer\"].replace([\"No\"], 1)\n",
    "test[\"FrequentFlyer\"] = test[\"FrequentFlyer\"].replace([\"Yes\"], 0)\n",
    "test[\"FrequentFlyer\"] = test[\"FrequentFlyer\"].replace([\"No\"], 1)\n",
    "\n",
    "train[\"EverTravelledAbroad\"] = train[\"EverTravelledAbroad\"].replace([\"Yes\"], 0)\n",
    "train[\"EverTravelledAbroad\"] = train[\"EverTravelledAbroad\"].replace([\"No\"], 1)\n",
    "test[\"EverTravelledAbroad\"] = test[\"EverTravelledAbroad\"].replace([\"Yes\"], 0)\n",
    "test[\"EverTravelledAbroad\"] = test[\"EverTravelledAbroad\"].replace([\"No\"], 1)\n",
    "\n",
    "train = train.drop(columns=[\"Customer\", \"Employment Type\"])"
   ]
  },
  {
   "cell_type": "code",
   "execution_count": 209,
   "id": "3304eb4c-7a24-4852-80e4-ec56131f4e57",
   "metadata": {},
   "outputs": [
    {
     "data": {
      "text/plain": [
       "532"
      ]
     },
     "execution_count": 209,
     "metadata": {},
     "output_type": "execute_result"
    }
   ],
   "source": [
    "suma2 = train[\"TravelInsurance\"].sum()\n",
    "suma2"
   ]
  },
  {
   "cell_type": "code",
   "execution_count": 210,
   "id": "a6cdda44-b7b7-4629-af6f-f98e695121c7",
   "metadata": {},
   "outputs": [
    {
     "data": {
      "text/html": [
       "<div>\n",
       "<style scoped>\n",
       "    .dataframe tbody tr th:only-of-type {\n",
       "        vertical-align: middle;\n",
       "    }\n",
       "\n",
       "    .dataframe tbody tr th {\n",
       "        vertical-align: top;\n",
       "    }\n",
       "\n",
       "    .dataframe thead th {\n",
       "        text-align: right;\n",
       "    }\n",
       "</style>\n",
       "<table border=\"1\" class=\"dataframe\">\n",
       "  <thead>\n",
       "    <tr style=\"text-align: right;\">\n",
       "      <th></th>\n",
       "      <th>Age</th>\n",
       "      <th>GraduateOrNot</th>\n",
       "      <th>AnnualIncome</th>\n",
       "      <th>FamilyMembers</th>\n",
       "      <th>ChronicDiseases</th>\n",
       "      <th>FrequentFlyer</th>\n",
       "      <th>EverTravelledAbroad</th>\n",
       "      <th>TravelInsurance</th>\n",
       "    </tr>\n",
       "  </thead>\n",
       "  <tbody>\n",
       "    <tr>\n",
       "      <th>count</th>\n",
       "      <td>1204.000000</td>\n",
       "      <td>1204.000000</td>\n",
       "      <td>1.204000e+03</td>\n",
       "      <td>1204.000000</td>\n",
       "      <td>1204.000000</td>\n",
       "      <td>1204.000000</td>\n",
       "      <td>1204.000000</td>\n",
       "      <td>1204.000000</td>\n",
       "    </tr>\n",
       "    <tr>\n",
       "      <th>mean</th>\n",
       "      <td>29.750831</td>\n",
       "      <td>0.140365</td>\n",
       "      <td>1.051578e+06</td>\n",
       "      <td>4.748339</td>\n",
       "      <td>0.275748</td>\n",
       "      <td>0.737542</td>\n",
       "      <td>0.764120</td>\n",
       "      <td>0.406977</td>\n",
       "    </tr>\n",
       "    <tr>\n",
       "      <th>std</th>\n",
       "      <td>2.988096</td>\n",
       "      <td>0.347510</td>\n",
       "      <td>3.137100e+05</td>\n",
       "      <td>1.610116</td>\n",
       "      <td>0.447076</td>\n",
       "      <td>0.440153</td>\n",
       "      <td>0.424724</td>\n",
       "      <td>0.491475</td>\n",
       "    </tr>\n",
       "    <tr>\n",
       "      <th>min</th>\n",
       "      <td>25.000000</td>\n",
       "      <td>0.000000</td>\n",
       "      <td>5.500000e+05</td>\n",
       "      <td>2.000000</td>\n",
       "      <td>0.000000</td>\n",
       "      <td>0.000000</td>\n",
       "      <td>0.000000</td>\n",
       "      <td>0.000000</td>\n",
       "    </tr>\n",
       "    <tr>\n",
       "      <th>25%</th>\n",
       "      <td>28.000000</td>\n",
       "      <td>0.000000</td>\n",
       "      <td>8.000000e+05</td>\n",
       "      <td>4.000000</td>\n",
       "      <td>0.000000</td>\n",
       "      <td>0.000000</td>\n",
       "      <td>1.000000</td>\n",
       "      <td>0.000000</td>\n",
       "    </tr>\n",
       "    <tr>\n",
       "      <th>50%</th>\n",
       "      <td>29.000000</td>\n",
       "      <td>0.000000</td>\n",
       "      <td>1.050000e+06</td>\n",
       "      <td>5.000000</td>\n",
       "      <td>0.000000</td>\n",
       "      <td>1.000000</td>\n",
       "      <td>1.000000</td>\n",
       "      <td>0.000000</td>\n",
       "    </tr>\n",
       "    <tr>\n",
       "      <th>75%</th>\n",
       "      <td>33.000000</td>\n",
       "      <td>0.000000</td>\n",
       "      <td>1.300000e+06</td>\n",
       "      <td>6.000000</td>\n",
       "      <td>1.000000</td>\n",
       "      <td>1.000000</td>\n",
       "      <td>1.000000</td>\n",
       "      <td>1.000000</td>\n",
       "    </tr>\n",
       "    <tr>\n",
       "      <th>max</th>\n",
       "      <td>35.000000</td>\n",
       "      <td>1.000000</td>\n",
       "      <td>1.800000e+06</td>\n",
       "      <td>9.000000</td>\n",
       "      <td>1.000000</td>\n",
       "      <td>1.000000</td>\n",
       "      <td>1.000000</td>\n",
       "      <td>1.000000</td>\n",
       "    </tr>\n",
       "  </tbody>\n",
       "</table>\n",
       "</div>"
      ],
      "text/plain": [
       "               Age  GraduateOrNot  AnnualIncome  FamilyMembers  \\\n",
       "count  1204.000000    1204.000000  1.204000e+03    1204.000000   \n",
       "mean     29.750831       0.140365  1.051578e+06       4.748339   \n",
       "std       2.988096       0.347510  3.137100e+05       1.610116   \n",
       "min      25.000000       0.000000  5.500000e+05       2.000000   \n",
       "25%      28.000000       0.000000  8.000000e+05       4.000000   \n",
       "50%      29.000000       0.000000  1.050000e+06       5.000000   \n",
       "75%      33.000000       0.000000  1.300000e+06       6.000000   \n",
       "max      35.000000       1.000000  1.800000e+06       9.000000   \n",
       "\n",
       "       ChronicDiseases  FrequentFlyer  EverTravelledAbroad  TravelInsurance  \n",
       "count      1204.000000    1204.000000          1204.000000      1204.000000  \n",
       "mean          0.275748       0.737542             0.764120         0.406977  \n",
       "std           0.447076       0.440153             0.424724         0.491475  \n",
       "min           0.000000       0.000000             0.000000         0.000000  \n",
       "25%           0.000000       0.000000             1.000000         0.000000  \n",
       "50%           0.000000       1.000000             1.000000         0.000000  \n",
       "75%           1.000000       1.000000             1.000000         1.000000  \n",
       "max           1.000000       1.000000             1.000000         1.000000  "
      ]
     },
     "execution_count": 210,
     "metadata": {},
     "output_type": "execute_result"
    }
   ],
   "source": [
    "\n",
    "trainfilter = train[\"AnnualIncome\"]>500000\n",
    "trainMoreIncome = train[trainfilter]\n",
    "trainMoreIncome.describe()"
   ]
  },
  {
   "cell_type": "code",
   "execution_count": 211,
   "id": "db094ef1-21d5-484c-b4f9-2571a28f8e4d",
   "metadata": {},
   "outputs": [
    {
     "data": {
      "text/plain": [
       "490"
      ]
     },
     "execution_count": 211,
     "metadata": {},
     "output_type": "execute_result"
    }
   ],
   "source": [
    "suma = trainMoreIncome[\"TravelInsurance\"].sum()\n",
    "suma"
   ]
  },
  {
   "cell_type": "code",
   "execution_count": null,
   "id": "74f6678e-e67a-4af2-a850-2d9944f70412",
   "metadata": {},
   "outputs": [],
   "source": []
  },
  {
   "cell_type": "markdown",
   "id": "067aab46-d850-465d-b4de-8555abb83695",
   "metadata": {},
   "source": [
    "Aqui me surgio la duda sobre si esta bien reemplazar las palabras por numeros 0 y 1, o deberiamos aplicar un one hot encoder. Las variables son categoricas son binarias. "
   ]
  },
  {
   "cell_type": "code",
   "execution_count": 212,
   "id": "febc68e9-e3ba-42bd-8ef2-7ce6e9c2f73d",
   "metadata": {},
   "outputs": [],
   "source": [
    "X, y = train.iloc[:, 0:7], train.TravelInsurance"
   ]
  },
  {
   "cell_type": "code",
   "execution_count": null,
   "id": "638d3d57-1a65-4f61-9811-2c995fb3d34c",
   "metadata": {},
   "outputs": [],
   "source": []
  },
  {
   "cell_type": "code",
   "execution_count": 213,
   "id": "52f48768-bb52-4a86-9e12-5b8dd828b82e",
   "metadata": {},
   "outputs": [],
   "source": [
    "X_train, X_test, y_train, y_test = train_test_split(X, y, test_size=0.8, random_state=0)"
   ]
  },
  {
   "cell_type": "code",
   "execution_count": 214,
   "id": "57a61cf8-418b-4e61-80f9-ec6dd338b169",
   "metadata": {},
   "outputs": [
    {
     "data": {
      "text/plain": [
       "(1192, 7)"
      ]
     },
     "execution_count": 214,
     "metadata": {},
     "output_type": "execute_result"
    }
   ],
   "source": [
    "X_train.shape\n",
    "X_test.shape"
   ]
  },
  {
   "cell_type": "code",
   "execution_count": null,
   "id": "7623a97a-3aa1-4b37-b1fd-d1881ee76884",
   "metadata": {},
   "outputs": [],
   "source": []
  },
  {
   "cell_type": "markdown",
   "id": "3d5626aa-15f1-4efa-822f-7371cab3e081",
   "metadata": {},
   "source": [
    "-----------------------------------------------------------------------------------------------\n",
    "# SGD Classifier"
   ]
  },
  {
   "cell_type": "code",
   "execution_count": 215,
   "id": "04ce8a12-603a-4f9e-b4a0-ad41756b24d9",
   "metadata": {},
   "outputs": [
    {
     "data": {
      "text/plain": [
       "Pipeline(steps=[('robustscaler', RobustScaler()),\n",
       "                ('sgdclassifier', SGDClassifier(random_state=42))])"
      ]
     },
     "execution_count": 215,
     "metadata": {},
     "output_type": "execute_result"
    }
   ],
   "source": [
    "from sklearn.preprocessing import RobustScaler, MinMaxScaler, Normalizer, QuantileTransformer, PowerTransformer\n",
    "clf = make_pipeline(RobustScaler(),\n",
    "                   SGDClassifier(random_state=42))\n",
    "clf.fit(X_train, y_train)"
   ]
  },
  {
   "cell_type": "markdown",
   "id": "6b76d6a4-c612-4f4c-aa5e-c4e519757c90",
   "metadata": {},
   "source": [
    "### Metricas en Entrenamiento"
   ]
  },
  {
   "cell_type": "code",
   "execution_count": 216,
   "id": "b0dc020a-abd7-487d-928e-0e54c76cdbff",
   "metadata": {},
   "outputs": [
    {
     "name": "stdout",
     "output_type": "stream",
     "text": [
      "Accuracy Score:  0.7550335570469798\n",
      "Precision Score:  0.6464646464646465\n",
      "F1 Score:  0.6368159203980099\n",
      "Recall Score:  0.6274509803921569\n"
     ]
    }
   ],
   "source": [
    "y_pred_train = clf.predict(X_train)\n",
    "print('Accuracy Score: ', accuracy_score(y_train, y_pred_train))\n",
    "print('Precision Score: ', precision_score(y_train, y_pred_train))\n",
    "print('F1 Score: ', f1_score(y_train, y_pred_train))\n",
    "print('Recall Score: ', recall_score(y_train, y_pred_train))"
   ]
  },
  {
   "cell_type": "markdown",
   "id": "28bd4256-bd3e-42fd-8ff9-68b7ad3a1fec",
   "metadata": {},
   "source": [
    "### Metricas en Test"
   ]
  },
  {
   "cell_type": "code",
   "execution_count": 217,
   "id": "b485028f-6f52-4bdc-98e3-96785fe6b96e",
   "metadata": {},
   "outputs": [
    {
     "name": "stdout",
     "output_type": "stream",
     "text": [
      "Accuracy Score:  0.7256711409395973\n",
      "Precision Score:  0.6223277909738717\n",
      "F1 Score:  0.6157461809635723\n",
      "Recall Score:  0.6093023255813953\n"
     ]
    }
   ],
   "source": [
    "y_pred_test = clf.predict(X_test)\n",
    "print('Accuracy Score: ', accuracy_score(y_test, y_pred_test))\n",
    "print('Precision Score: ', precision_score(y_test, y_pred_test))\n",
    "print('F1 Score: ', f1_score(y_test, y_pred_test))\n",
    "print('Recall Score: ', recall_score(y_test, y_pred_test))"
   ]
  },
  {
   "cell_type": "markdown",
   "id": "0263f66e-e5e1-4fc2-b614-214ccc1bfbf3",
   "metadata": {},
   "source": [
    "Habria que analizar porque esta dando una accuracy mejor en test que en el mismo entrenamiento. Puede ser por los pocos datos que tenemos?"
   ]
  },
  {
   "cell_type": "code",
   "execution_count": 218,
   "id": "4a37152f-4abb-4335-af40-5ea6cace30ed",
   "metadata": {},
   "outputs": [
    {
     "data": {
      "text/plain": [
       "Pipeline(steps=[('standardscaler', StandardScaler()),\n",
       "                ('gridsearchcv',\n",
       "                 GridSearchCV(cv=3, estimator=SGDClassifier(),\n",
       "                              param_grid={'alpha': [0.0001, 0.001, 0.01, 0.1],\n",
       "                                          'eta0': [0.0001, 0.001, 0.01, 0.1],\n",
       "                                          'learning_rate': ['optimal',\n",
       "                                                            'constant',\n",
       "                                                            'invscaling'],\n",
       "                                          'loss': ['perceptron', 'hinge', 'log',\n",
       "                                                   'squared_loss',\n",
       "                                                   'epsilon_insensitive'],\n",
       "                                          'penalty': ['l2', 'l1', 'none'],\n",
       "                                          'random_state': [42]}))])"
      ]
     },
     "execution_count": 218,
     "metadata": {},
     "output_type": "execute_result"
    }
   ],
   "source": [
    "# Selección de parámetros\n",
    "param_grid = {\n",
    "    'loss': ['perceptron','hinge','log','squared_loss','epsilon_insensitive'],\n",
    "    'penalty' : ['l2', 'l1', 'none'],\n",
    "    'alpha' : [0.0001, 0.001, 0.01, 0.1],\n",
    "    'random_state': [42],\n",
    "    'learning_rate': ['optimal','constant','invscaling'],\n",
    "    'eta0': [0.0001, 0.001, 0.01, 0.1]\n",
    "}\n",
    "\n",
    "best_clf = make_pipeline(StandardScaler(), GridSearchCV(SGDClassifier(), param_grid, cv=3))\n",
    "best_clf.fit(X_train, y_train)"
   ]
  },
  {
   "cell_type": "markdown",
   "id": "146f2848-8b88-4639-8400-605c01165839",
   "metadata": {},
   "source": [
    "### Metricas en Entrenamiento"
   ]
  },
  {
   "cell_type": "code",
   "execution_count": 155,
   "id": "fcde1f67-1c9e-4eaa-887e-9729ca73211e",
   "metadata": {},
   "outputs": [
    {
     "name": "stdout",
     "output_type": "stream",
     "text": [
      "Accuracy Score:  0.7885906040268457\n",
      "Precision Score:  0.8095238095238095\n",
      "F1 Score:  0.6181818181818182\n",
      "Recall Score:  0.5\n"
     ]
    }
   ],
   "source": [
    "y_pred_train = best_clf.predict(X_train)\n",
    "print('Accuracy Score: ', accuracy_score(y_train, y_pred_train))\n",
    "print('Precision Score: ', precision_score(y_train, y_pred_train))\n",
    "print('F1 Score: ', f1_score(y_train, y_pred_train))\n",
    "print('Recall Score: ', recall_score(y_train, y_pred_train))"
   ]
  },
  {
   "cell_type": "markdown",
   "id": "f1f34898-64b5-4b04-8b61-4f3d52ccdaf6",
   "metadata": {},
   "source": [
    "### Metricas en Test"
   ]
  },
  {
   "cell_type": "code",
   "execution_count": 156,
   "id": "c3ce9306-231f-4a69-8acd-e05f8275cc3f",
   "metadata": {},
   "outputs": [
    {
     "name": "stdout",
     "output_type": "stream",
     "text": [
      "Accuracy Score:  0.7659395973154363\n",
      "Precision Score:  0.7745454545454545\n",
      "F1 Score:  0.6042553191489362\n",
      "Recall Score:  0.49534883720930234\n"
     ]
    }
   ],
   "source": [
    "y_pred_test = best_clf.predict(X_test)\n",
    "print('Accuracy Score: ', accuracy_score(y_test, y_pred_test))\n",
    "print('Precision Score: ', precision_score(y_test, y_pred_test))\n",
    "print('F1 Score: ', f1_score(y_test, y_pred_test))\n",
    "print('Recall Score: ', recall_score(y_test, y_pred_test))"
   ]
  },
  {
   "cell_type": "markdown",
   "id": "2e002614-fc66-456d-8b9c-84a67d6359cd",
   "metadata": {},
   "source": [
    "El tema de este ultimo modelo es que no sabemos que hiperparametros adopto por el pipeline. Pero como sólo tenemos que cargar los datos de prediccion de test podria funcionar"
   ]
  },
  {
   "cell_type": "markdown",
   "id": "5626bfc3-3d30-44e9-9779-e85f8a63dca0",
   "metadata": {},
   "source": [
    "-----------------------------------------------------------------------------------------------\n",
    "# Decision Tree"
   ]
  },
  {
   "cell_type": "markdown",
   "id": "7d60c7aa-7845-49c2-906f-9f35f454cb1c",
   "metadata": {},
   "source": [
    "## Decision Tree Vanilla"
   ]
  },
  {
   "cell_type": "code",
   "execution_count": 157,
   "id": "911a79c6-78a1-4435-ab29-8cbac6c37e99",
   "metadata": {},
   "outputs": [
    {
     "data": {
      "text/plain": [
       "DecisionTreeClassifier(random_state=42)"
      ]
     },
     "execution_count": 157,
     "metadata": {},
     "output_type": "execute_result"
    }
   ],
   "source": [
    "tree_def = DecisionTreeClassifier(random_state=42)\n",
    "tree_def.fit(X_train, y_train)"
   ]
  },
  {
   "cell_type": "code",
   "execution_count": 158,
   "id": "55573168-8596-46f4-9f1f-4543d48cac97",
   "metadata": {},
   "outputs": [
    {
     "name": "stdout",
     "output_type": "stream",
     "text": [
      "Accuracy Score:  0.9664429530201343\n",
      "Precision Score:  1.0\n",
      "F1 Score:  0.9484536082474228\n",
      "Recall Score:  0.9019607843137255\n"
     ]
    }
   ],
   "source": [
    "y_pred = tree_def.predict(X_train)\n",
    "print('Accuracy Score: ', accuracy_score(y_train, y_pred))\n",
    "print('Precision Score: ', precision_score(y_train, y_pred))\n",
    "print('F1 Score: ', f1_score(y_train, y_pred))\n",
    "print('Recall Score: ', recall_score(y_train, y_pred))"
   ]
  },
  {
   "cell_type": "code",
   "execution_count": 159,
   "id": "e3eff36f-8773-456d-9cbe-5d92253b93a5",
   "metadata": {},
   "outputs": [
    {
     "name": "stdout",
     "output_type": "stream",
     "text": [
      "Accuracy Score:  0.7390939597315436\n",
      "Precision Score:  0.6420047732696897\n",
      "F1 Score:  0.6336866902237926\n",
      "Recall Score:  0.6255813953488372\n"
     ]
    }
   ],
   "source": [
    "y_pred_test = tree_def.predict(X_test)\n",
    "print('Accuracy Score: ', accuracy_score(y_test, y_pred_test))\n",
    "print('Precision Score: ', precision_score(y_test, y_pred_test))\n",
    "print('F1 Score: ', f1_score(y_test, y_pred_test))\n",
    "print('Recall Score: ', recall_score(y_test, y_pred_test))"
   ]
  },
  {
   "cell_type": "markdown",
   "id": "8b2dd022-7cb0-4c3e-b207-e41858a093eb",
   "metadata": {},
   "source": [
    "En entrenamiento avanza tanto que divide todos los datos."
   ]
  },
  {
   "cell_type": "code",
   "execution_count": 175,
   "id": "85fe19ff-d37d-44b2-9e8a-e243ca932537",
   "metadata": {},
   "outputs": [
    {
     "data": {
      "text/plain": [
       "Pipeline(steps=[('robustscaler', RobustScaler()),\n",
       "                ('decisiontreeclassifier',\n",
       "                 DecisionTreeClassifier(random_state=42))])"
      ]
     },
     "execution_count": 175,
     "metadata": {},
     "output_type": "execute_result"
    }
   ],
   "source": [
    "\n",
    "treeWithRobustScaler = make_pipeline(RobustScaler(),\n",
    "                   DecisionTreeClassifier(random_state=42))\n",
    "treeWithRobustScaler.fit(X_train, y_train)"
   ]
  },
  {
   "cell_type": "code",
   "execution_count": 176,
   "id": "f0e8d548-bf22-482d-b834-4a012b38f452",
   "metadata": {},
   "outputs": [
    {
     "name": "stdout",
     "output_type": "stream",
     "text": [
      "Accuracy Score:  0.9664429530201343\n",
      "Precision Score:  1.0\n",
      "F1 Score:  0.9484536082474228\n",
      "Recall Score:  0.9019607843137255\n"
     ]
    }
   ],
   "source": [
    "y_pred = treeWithRobustScaler.predict(X_train)\n",
    "print('Accuracy Score: ', accuracy_score(y_train, y_pred))\n",
    "print('Precision Score: ', precision_score(y_train, y_pred))\n",
    "print('F1 Score: ', f1_score(y_train, y_pred))\n",
    "print('Recall Score: ', recall_score(y_train, y_pred))"
   ]
  },
  {
   "cell_type": "code",
   "execution_count": 177,
   "id": "daac3284-3f68-44a8-b418-13261980f77a",
   "metadata": {},
   "outputs": [
    {
     "name": "stdout",
     "output_type": "stream",
     "text": [
      "Accuracy Score:  0.7390939597315436\n",
      "Precision Score:  0.640661938534279\n",
      "F1 Score:  0.6354044548651818\n",
      "Recall Score:  0.6302325581395349\n"
     ]
    }
   ],
   "source": [
    "y_pred_test = treeWithRobustScaler.predict(X_test)\n",
    "print('Accuracy Score: ', accuracy_score(y_test, y_pred_test))\n",
    "print('Precision Score: ', precision_score(y_test, y_pred_test))\n",
    "print('F1 Score: ', f1_score(y_test, y_pred_test))\n",
    "print('Recall Score: ', recall_score(y_test, y_pred_test))"
   ]
  },
  {
   "cell_type": "markdown",
   "id": "9577df47-7dc0-4eab-8861-70ecadf2850b",
   "metadata": {},
   "source": [
    "## BEst Decision Tree"
   ]
  },
  {
   "cell_type": "code",
   "execution_count": 173,
   "id": "97c24142-a7b1-4a13-afa4-c54561dced26",
   "metadata": {},
   "outputs": [
    {
     "data": {
      "text/plain": [
       "GridSearchCV(cv=5, estimator=DecisionTreeClassifier(),\n",
       "             param_grid={'criterion': ['entropy', 'gini'],\n",
       "                         'max_depth': [2, 5, 10, 50],\n",
       "                         'min_samples_leaf': [1, 2, 3, 8, 20, 40, 60]})"
      ]
     },
     "execution_count": 173,
     "metadata": {},
     "output_type": "execute_result"
    }
   ],
   "source": [
    "# Selección de parámetros\n",
    "param_grid = {\n",
    "    'criterion': ['entropy','gini'],\n",
    "    'max_depth': [2,5,10,50],\n",
    "    'min_samples_leaf' : [1, 2,3,8,20,40,60]\n",
    "}\n",
    "\n",
    "best_tree = GridSearchCV(DecisionTreeClassifier(), param_grid, cv=5)\n",
    "best_tree.fit(X_train, y_train)"
   ]
  },
  {
   "cell_type": "code",
   "execution_count": 161,
   "id": "8e838416-2b5c-4e84-b013-9f4c041dbcfd",
   "metadata": {},
   "outputs": [
    {
     "name": "stdout",
     "output_type": "stream",
     "text": [
      "Accuracy Score:  0.8624161073825504\n",
      "Precision Score:  0.8505747126436781\n",
      "F1 Score:  0.783068783068783\n",
      "Recall Score:  0.7254901960784313\n"
     ]
    }
   ],
   "source": [
    "y_pred = best_tree.predict(X_train)\n",
    "print('Accuracy Score: ', accuracy_score(y_train, y_pred))\n",
    "print('Precision Score: ', precision_score(y_train, y_pred))\n",
    "print('F1 Score: ', f1_score(y_train, y_pred))\n",
    "print('Recall Score: ', recall_score(y_train, y_pred))"
   ]
  },
  {
   "cell_type": "code",
   "execution_count": 162,
   "id": "66f56e52-0114-49e0-949c-fa2300b76cd5",
   "metadata": {},
   "outputs": [
    {
     "name": "stdout",
     "output_type": "stream",
     "text": [
      "El mejor score promedio cruzado validado 0.8493220338983052\n",
      "-------------------------------------------------------------------------------------------------\n",
      "El mejor estimador es DecisionTreeClassifier(max_depth=10, min_samples_leaf=8)\n",
      "-------------------------------------------------------------------------------------------------\n",
      "Los parámetros que dieron los mejores resultados {'criterion': 'gini', 'max_depth': 10, 'min_samples_leaf': 8}\n"
     ]
    }
   ],
   "source": [
    "print(\"El mejor score promedio cruzado validado\",best_tree.best_score_)\n",
    "print(\"-------------------------------------------------------------------------------------------------\")\n",
    "print(\"El mejor estimador es\", best_tree.best_estimator_)\n",
    "print(\"-------------------------------------------------------------------------------------------------\")\n",
    "print(\"Los parámetros que dieron los mejores resultados\", best_tree.best_params_)"
   ]
  },
  {
   "cell_type": "code",
   "execution_count": 163,
   "id": "b1831f40-5b62-4364-8e4f-4cf9ca0640e8",
   "metadata": {},
   "outputs": [
    {
     "name": "stdout",
     "output_type": "stream",
     "text": [
      "Accuracy Score:  0.7869127516778524\n",
      "Precision Score:  0.7444444444444445\n",
      "F1 Score:  0.6784810126582278\n",
      "Recall Score:  0.6232558139534884\n"
     ]
    }
   ],
   "source": [
    "y_pred_test = best_tree.predict(X_test)\n",
    "print('Accuracy Score: ', accuracy_score(y_test, y_pred_test))\n",
    "print('Precision Score: ', precision_score(y_test, y_pred_test))\n",
    "print('F1 Score: ', f1_score(y_test, y_pred_test))\n",
    "print('Recall Score: ', recall_score(y_test, y_pred_test))"
   ]
  },
  {
   "cell_type": "code",
   "execution_count": 164,
   "id": "470afe87-58a6-4948-8072-0115a373f9b8",
   "metadata": {},
   "outputs": [
    {
     "data": {
      "text/plain": [
       "AdaBoostRegressor(n_estimators=100, random_state=0)"
      ]
     },
     "execution_count": 164,
     "metadata": {},
     "output_type": "execute_result"
    }
   ],
   "source": [
    "from sklearn.ensemble import AdaBoostRegressor\n",
    "\n",
    "regr = AdaBoostRegressor(random_state=0, n_estimators=100)\n",
    "regr.fit(X_train, y_train)\n",
    "AdaBoostRegressor(n_estimators=100, random_state=0)"
   ]
  },
  {
   "cell_type": "code",
   "execution_count": 165,
   "id": "7f5eea34-d490-4c55-bcf7-afa55d832567",
   "metadata": {},
   "outputs": [
    {
     "data": {
      "text/plain": [
       "0.331532513948804"
      ]
     },
     "execution_count": 165,
     "metadata": {},
     "output_type": "execute_result"
    }
   ],
   "source": [
    "regr.score(X_train, y_train)"
   ]
  },
  {
   "cell_type": "markdown",
   "id": "bd8f8fa5-1f8e-49d0-a3e9-33e142cccd4b",
   "metadata": {},
   "source": [
    "-----------------------------------------------------------------------------------------------\n",
    "## SVR\n",
    "El problema de este modelo es que arroja resultados continuos. Lo dejo por si encontramos que podemos modificar su salida con alguna funcion de activacion"
   ]
  },
  {
   "cell_type": "code",
   "execution_count": 166,
   "id": "b7e354fa-58d0-4c84-8bf3-0967a8ccdddf",
   "metadata": {},
   "outputs": [
    {
     "data": {
      "text/plain": [
       "Pipeline(steps=[('standardscaler', StandardScaler()),\n",
       "                ('svr', SVR(epsilon=0.2))])"
      ]
     },
     "execution_count": 166,
     "metadata": {},
     "output_type": "execute_result"
    }
   ],
   "source": [
    "from sklearn.svm import SVR\n",
    "\n",
    "regr = make_pipeline(StandardScaler(), SVR(C=1.0, epsilon=0.2))\n",
    "regr.fit(X_train, y_train)"
   ]
  },
  {
   "cell_type": "code",
   "execution_count": 167,
   "id": "7377cd60-bcef-4ab8-a9de-829164444a42",
   "metadata": {},
   "outputs": [
    {
     "data": {
      "text/plain": [
       "array([ 0.33562149,  0.16996008,  0.79971824,  0.66351884,  0.19969709,\n",
       "        0.11468063,  0.18482693,  0.13346669,  0.10651731,  0.18292632,\n",
       "        0.8000032 ,  0.80794934,  0.20008339,  0.12659669,  0.25150078,\n",
       "        0.08619186,  0.2003332 ,  0.20022758,  0.17348619,  0.20010551,\n",
       "        0.32452996,  0.1997603 ,  0.8124498 ,  0.79990414,  0.30427568,\n",
       "        0.12805944,  0.52116852,  0.75026405,  0.87655528,  0.13346669,\n",
       "        0.22021025,  0.18809941,  0.16762214,  0.41443447,  0.32834731,\n",
       "        0.17656627,  0.19987509,  0.55301839,  0.34990844,  0.24027662,\n",
       "       -0.0042996 ,  0.20022899,  0.11265562,  0.11563537,  0.32211186,\n",
       "        0.15501886,  0.65011527,  0.19982402,  0.12051515,  0.20003162,\n",
       "        0.79990414,  0.14380716,  0.2129419 ,  0.79968183,  0.40191143,\n",
       "        0.20000346,  0.11623877,  0.15239688,  0.16438443,  0.79979576,\n",
       "        0.24883947,  0.16507389,  0.13587699,  0.09822561, -0.0042996 ,\n",
       "        0.20643734,  0.08839186,  0.09393832,  0.19965338,  0.20022901,\n",
       "        0.05757988,  0.2059218 ,  0.42497918,  0.79996495,  0.07846538,\n",
       "        0.8049413 ,  0.67617617,  0.21574176,  0.18292632,  0.80021806,\n",
       "        0.20041928,  0.35703117,  0.19985205,  0.11456271,  0.76310692,\n",
       "        0.752528  ,  0.18317379,  0.19355982,  0.80018043,  0.1892132 ,\n",
       "        0.10492172,  0.70759129,  0.2000848 ,  0.26361869,  0.19988841,\n",
       "        0.16429184,  0.13793398,  0.17534662,  0.20041928,  0.19965338,\n",
       "        0.81210026,  0.32834731,  0.36221324,  0.24701985,  0.48943361,\n",
       "        0.19991109,  0.20008495,  0.20006468,  0.21831903,  0.09765359,\n",
       "        0.79996123,  0.09251155,  0.20022901,  0.22126642,  0.16762214,\n",
       "        0.60044464,  0.56550471,  0.60799428,  0.11199347,  0.79985134,\n",
       "        0.09853783,  0.17429255,  0.17656627,  0.27469384,  0.19197215,\n",
       "       -0.12758129,  0.16179829,  0.14753732,  0.47826612,  0.58389799,\n",
       "        0.57316974,  0.19998799,  0.81367318,  0.20012625,  0.20008686,\n",
       "        0.04571632,  0.20035891,  0.09765359,  0.46285466,  0.13353211,\n",
       "        0.13793398,  0.20030892,  0.79968183,  0.17247012,  0.17348619,\n",
       "        0.27469384,  0.13973394,  0.16016691,  0.8878895 ,  0.20011116,\n",
       "        0.17844618,  0.5711425 ,  0.19952505,  0.36221324,  0.81214071,\n",
       "        0.23254059,  0.17141575,  0.17255371,  0.24925457,  0.88902542,\n",
       "        0.31320565,  0.18980082,  0.17534662,  0.15239688,  0.19963741,\n",
       "        0.80005345,  0.81689872,  0.16783263,  0.20059535,  0.14178725,\n",
       "        0.79961038,  0.20041335,  0.23720292,  0.65478365,  0.11529831,\n",
       "        0.19810824,  0.15780499,  0.82786497,  0.16762214,  0.16438443,\n",
       "        0.08347438,  0.19510483,  0.52125688,  0.80005345,  0.80003458,\n",
       "        0.16301811,  0.11120517,  0.19969768,  0.20008339,  0.80234621,\n",
       "        0.75284315,  0.79977231,  0.8049413 ,  0.80197852,  0.21816805,\n",
       "        0.80039358,  0.19992339,  0.0989136 ,  0.53388787,  0.20017548,\n",
       "        0.19997626,  0.17320068,  0.16769426,  0.39443666,  0.12326012,\n",
       "        0.80042398,  0.15631255,  0.20003144,  0.8002345 ,  0.80006441,\n",
       "        0.05757988,  0.13827302,  0.11529831,  0.1998813 ,  0.81879155,\n",
       "        0.32452996,  0.19986285,  0.57536237,  0.19434388,  0.19990915,\n",
       "        0.19959297,  0.17054056,  0.09132181,  0.334114  ,  0.18109644,\n",
       "        0.16615319,  0.80025357,  0.80042969,  0.79999435,  0.81924865,\n",
       "        0.79985763,  0.80039358,  0.69363817,  0.17054056,  0.20005593,\n",
       "        0.20018596,  0.79985699,  0.20001334,  0.12737026,  0.64570184,\n",
       "        0.14517009,  0.80007531,  0.79986911,  0.80008912,  0.26392677,\n",
       "        0.20000727,  0.20486023,  0.47099335,  0.18519357,  0.04049757,\n",
       "        0.16755597,  0.36428654,  0.17047986,  0.16762214,  0.77702988,\n",
       "        0.19960414,  0.17668519,  0.26392677,  0.19060182,  0.14515933,\n",
       "        0.13164288,  0.12681399,  0.49688436,  0.79977231,  0.80039358,\n",
       "        0.15239337,  0.15685789,  0.21583264,  0.07507463,  0.19510483,\n",
       "        0.11966505,  0.65011527,  0.18740992,  0.30677733,  0.13629831,\n",
       "        0.19965338,  0.17757987,  0.09110095,  0.12208606,  0.09853783,\n",
       "        0.61751177,  0.13346669,  0.20017644,  0.08839186,  0.18848477,\n",
       "        0.68481571,  0.99566181,  0.19297319,  0.79961038,  0.16429184,\n",
       "        0.19959297,  0.13346669,  0.20643734,  0.15421388,  0.15869472,\n",
       "        0.29298798,  0.8005179 ,  0.19153686])"
      ]
     },
     "execution_count": 167,
     "metadata": {},
     "output_type": "execute_result"
    }
   ],
   "source": [
    "y_pred = regr.predict(X_train)\n",
    "y_pred"
   ]
  },
  {
   "cell_type": "code",
   "execution_count": 168,
   "id": "190cde33-1069-4e3b-a566-34e12b11da01",
   "metadata": {},
   "outputs": [
    {
     "ename": "ValueError",
     "evalue": "Classification metrics can't handle a mix of binary and continuous targets",
     "output_type": "error",
     "traceback": [
      "\u001b[0;31m---------------------------------------------------------------------------\u001b[0m",
      "\u001b[0;31mValueError\u001b[0m                                Traceback (most recent call last)",
      "\u001b[0;32m<ipython-input-168-e8ad1d2ccd7f>\u001b[0m in \u001b[0;36m<module>\u001b[0;34m\u001b[0m\n\u001b[1;32m      1\u001b[0m \u001b[0my_pred\u001b[0m \u001b[0;34m=\u001b[0m \u001b[0mregr\u001b[0m\u001b[0;34m.\u001b[0m\u001b[0mpredict\u001b[0m\u001b[0;34m(\u001b[0m\u001b[0mX_train\u001b[0m\u001b[0;34m)\u001b[0m\u001b[0;34m\u001b[0m\u001b[0;34m\u001b[0m\u001b[0m\n\u001b[0;32m----> 2\u001b[0;31m \u001b[0mprint\u001b[0m\u001b[0;34m(\u001b[0m\u001b[0;34m'Accuracy Score: '\u001b[0m\u001b[0;34m,\u001b[0m \u001b[0maccuracy_score\u001b[0m\u001b[0;34m(\u001b[0m\u001b[0my_train\u001b[0m\u001b[0;34m,\u001b[0m \u001b[0my_pred\u001b[0m\u001b[0;34m)\u001b[0m\u001b[0;34m)\u001b[0m\u001b[0;34m\u001b[0m\u001b[0;34m\u001b[0m\u001b[0m\n\u001b[0m\u001b[1;32m      3\u001b[0m \u001b[0mprint\u001b[0m\u001b[0;34m(\u001b[0m\u001b[0;34m'Precision Score: '\u001b[0m\u001b[0;34m,\u001b[0m \u001b[0mprecision_score\u001b[0m\u001b[0;34m(\u001b[0m\u001b[0my_train\u001b[0m\u001b[0;34m,\u001b[0m \u001b[0my_pred\u001b[0m\u001b[0;34m)\u001b[0m\u001b[0;34m)\u001b[0m\u001b[0;34m\u001b[0m\u001b[0;34m\u001b[0m\u001b[0m\n\u001b[1;32m      4\u001b[0m \u001b[0mprint\u001b[0m\u001b[0;34m(\u001b[0m\u001b[0;34m'F1 Score: '\u001b[0m\u001b[0;34m,\u001b[0m \u001b[0mf1_score\u001b[0m\u001b[0;34m(\u001b[0m\u001b[0my_train\u001b[0m\u001b[0;34m,\u001b[0m \u001b[0my_pred\u001b[0m\u001b[0;34m)\u001b[0m\u001b[0;34m)\u001b[0m\u001b[0;34m\u001b[0m\u001b[0;34m\u001b[0m\u001b[0m\n\u001b[1;32m      5\u001b[0m \u001b[0mprint\u001b[0m\u001b[0;34m(\u001b[0m\u001b[0;34m'Recall Score: '\u001b[0m\u001b[0;34m,\u001b[0m \u001b[0mrecall_score\u001b[0m\u001b[0;34m(\u001b[0m\u001b[0my_train\u001b[0m\u001b[0;34m,\u001b[0m \u001b[0my_pred\u001b[0m\u001b[0;34m)\u001b[0m\u001b[0;34m)\u001b[0m\u001b[0;34m\u001b[0m\u001b[0;34m\u001b[0m\u001b[0m\n",
      "\u001b[0;32m~/opt/anaconda3/lib/python3.8/site-packages/sklearn/utils/validation.py\u001b[0m in \u001b[0;36minner_f\u001b[0;34m(*args, **kwargs)\u001b[0m\n\u001b[1;32m     61\u001b[0m             \u001b[0mextra_args\u001b[0m \u001b[0;34m=\u001b[0m \u001b[0mlen\u001b[0m\u001b[0;34m(\u001b[0m\u001b[0margs\u001b[0m\u001b[0;34m)\u001b[0m \u001b[0;34m-\u001b[0m \u001b[0mlen\u001b[0m\u001b[0;34m(\u001b[0m\u001b[0mall_args\u001b[0m\u001b[0;34m)\u001b[0m\u001b[0;34m\u001b[0m\u001b[0;34m\u001b[0m\u001b[0m\n\u001b[1;32m     62\u001b[0m             \u001b[0;32mif\u001b[0m \u001b[0mextra_args\u001b[0m \u001b[0;34m<=\u001b[0m \u001b[0;36m0\u001b[0m\u001b[0;34m:\u001b[0m\u001b[0;34m\u001b[0m\u001b[0;34m\u001b[0m\u001b[0m\n\u001b[0;32m---> 63\u001b[0;31m                 \u001b[0;32mreturn\u001b[0m \u001b[0mf\u001b[0m\u001b[0;34m(\u001b[0m\u001b[0;34m*\u001b[0m\u001b[0margs\u001b[0m\u001b[0;34m,\u001b[0m \u001b[0;34m**\u001b[0m\u001b[0mkwargs\u001b[0m\u001b[0;34m)\u001b[0m\u001b[0;34m\u001b[0m\u001b[0;34m\u001b[0m\u001b[0m\n\u001b[0m\u001b[1;32m     64\u001b[0m \u001b[0;34m\u001b[0m\u001b[0m\n\u001b[1;32m     65\u001b[0m             \u001b[0;31m# extra_args > 0\u001b[0m\u001b[0;34m\u001b[0m\u001b[0;34m\u001b[0m\u001b[0;34m\u001b[0m\u001b[0m\n",
      "\u001b[0;32m~/opt/anaconda3/lib/python3.8/site-packages/sklearn/metrics/_classification.py\u001b[0m in \u001b[0;36maccuracy_score\u001b[0;34m(y_true, y_pred, normalize, sample_weight)\u001b[0m\n\u001b[1;32m    200\u001b[0m \u001b[0;34m\u001b[0m\u001b[0m\n\u001b[1;32m    201\u001b[0m     \u001b[0;31m# Compute accuracy for each possible representation\u001b[0m\u001b[0;34m\u001b[0m\u001b[0;34m\u001b[0m\u001b[0;34m\u001b[0m\u001b[0m\n\u001b[0;32m--> 202\u001b[0;31m     \u001b[0my_type\u001b[0m\u001b[0;34m,\u001b[0m \u001b[0my_true\u001b[0m\u001b[0;34m,\u001b[0m \u001b[0my_pred\u001b[0m \u001b[0;34m=\u001b[0m \u001b[0m_check_targets\u001b[0m\u001b[0;34m(\u001b[0m\u001b[0my_true\u001b[0m\u001b[0;34m,\u001b[0m \u001b[0my_pred\u001b[0m\u001b[0;34m)\u001b[0m\u001b[0;34m\u001b[0m\u001b[0;34m\u001b[0m\u001b[0m\n\u001b[0m\u001b[1;32m    203\u001b[0m     \u001b[0mcheck_consistent_length\u001b[0m\u001b[0;34m(\u001b[0m\u001b[0my_true\u001b[0m\u001b[0;34m,\u001b[0m \u001b[0my_pred\u001b[0m\u001b[0;34m,\u001b[0m \u001b[0msample_weight\u001b[0m\u001b[0;34m)\u001b[0m\u001b[0;34m\u001b[0m\u001b[0;34m\u001b[0m\u001b[0m\n\u001b[1;32m    204\u001b[0m     \u001b[0;32mif\u001b[0m \u001b[0my_type\u001b[0m\u001b[0;34m.\u001b[0m\u001b[0mstartswith\u001b[0m\u001b[0;34m(\u001b[0m\u001b[0;34m'multilabel'\u001b[0m\u001b[0;34m)\u001b[0m\u001b[0;34m:\u001b[0m\u001b[0;34m\u001b[0m\u001b[0;34m\u001b[0m\u001b[0m\n",
      "\u001b[0;32m~/opt/anaconda3/lib/python3.8/site-packages/sklearn/metrics/_classification.py\u001b[0m in \u001b[0;36m_check_targets\u001b[0;34m(y_true, y_pred)\u001b[0m\n\u001b[1;32m     90\u001b[0m \u001b[0;34m\u001b[0m\u001b[0m\n\u001b[1;32m     91\u001b[0m     \u001b[0;32mif\u001b[0m \u001b[0mlen\u001b[0m\u001b[0;34m(\u001b[0m\u001b[0my_type\u001b[0m\u001b[0;34m)\u001b[0m \u001b[0;34m>\u001b[0m \u001b[0;36m1\u001b[0m\u001b[0;34m:\u001b[0m\u001b[0;34m\u001b[0m\u001b[0;34m\u001b[0m\u001b[0m\n\u001b[0;32m---> 92\u001b[0;31m         raise ValueError(\"Classification metrics can't handle a mix of {0} \"\n\u001b[0m\u001b[1;32m     93\u001b[0m                          \"and {1} targets\".format(type_true, type_pred))\n\u001b[1;32m     94\u001b[0m \u001b[0;34m\u001b[0m\u001b[0m\n",
      "\u001b[0;31mValueError\u001b[0m: Classification metrics can't handle a mix of binary and continuous targets"
     ]
    }
   ],
   "source": [
    "y_pred = regr.predict(X_train)\n",
    "print('Accuracy Score: ', accuracy_score(y_train, y_pred))\n",
    "print('Precision Score: ', precision_score(y_train, y_pred))\n",
    "print('F1 Score: ', f1_score(y_train, y_pred))\n",
    "print('Recall Score: ', recall_score(y_train, y_pred))"
   ]
  },
  {
   "cell_type": "markdown",
   "id": "c9592606-04f8-45dc-bc51-f4500aecf29e",
   "metadata": {},
   "source": [
    "-----------------------------------------------------------------------------------------------\n",
    "## C-Support Vector Classification.\n",
    "Es un modelo que tardo mucho en entrenar. En pc local, aprox 2 minutos con el 20 % de datos de entrenamiento (lo reduje para ello). Adjunto comentado el codigo y por los resultados creo que no vale la pena. Luego lo corro (o si alguno le da paciencia) con el entrenamiento al 80 % como esta seteado. "
   ]
  },
  {
   "cell_type": "code",
   "execution_count": 6,
   "id": "8f0e6ccf-453e-40bb-b9ee-089cc684cb7b",
   "metadata": {},
   "outputs": [],
   "source": [
    "#from sklearn import svm\n",
    "#clf = svm.SVC(kernel='linear', cache_size=7000)"
   ]
  },
  {
   "cell_type": "code",
   "execution_count": 7,
   "id": "8f82d49e-b438-440d-ba66-8ef73728deb8",
   "metadata": {},
   "outputs": [],
   "source": [
    "#clf = clf.fit(X_train, y_train)"
   ]
  },
  {
   "cell_type": "code",
   "execution_count": 8,
   "id": "3ce3989a-0473-4b47-93c8-149b88e643c1",
   "metadata": {},
   "outputs": [
    {
     "name": "stdout",
     "output_type": "stream",
     "text": [
      "Accuracy Score:  0.6812080536912751\n",
      "Precision Score:  0.5346534653465347\n",
      "F1 Score:  0.5320197044334977\n",
      "Recall Score:  0.5294117647058824\n"
     ]
    }
   ],
   "source": [
    "#y_pred = clf.predict(X_train)\n",
    "#print('Accuracy Score: ', accuracy_score(y_train, y_pred))\n",
    "#print('Precision Score: ', precision_score(y_train, y_pred))\n",
    "#print('F1 Score: ', f1_score(y_train, y_pred))\n",
    "#print('Recall Score: ', recall_score(y_train, y_pred))"
   ]
  },
  {
   "cell_type": "markdown",
   "id": "3de64e55-cf10-412d-8657-74ab40430677",
   "metadata": {},
   "source": [
    "\n",
    "<li> Accuracy Score:  0.6812080536912751\n",
    "<li> Precision Score:  0.5346534653465347\n",
    "<li> F1 Score:  0.5320197044334977\n",
    "<li> Recall Score:  0.5294117647058824"
   ]
  },
  {
   "cell_type": "markdown",
   "id": "7981e4ef-6905-45ee-ad49-c14209f71133",
   "metadata": {},
   "source": [
    "## Support Vector Machine"
   ]
  },
  {
   "cell_type": "code",
   "execution_count": 59,
   "id": "7d52d14d-fd45-4d95-9775-2156ce85c98b",
   "metadata": {},
   "outputs": [
    {
     "data": {
      "text/plain": [
       "SVC(C=1, cache_size=2000)"
      ]
     },
     "execution_count": 59,
     "metadata": {},
     "output_type": "execute_result"
    }
   ],
   "source": [
    "from sklearn import svm\n",
    "clf = svm.SVC(kernel=\"rbf\", C=1, cache_size=2000, )\n",
    "clf.fit(X_train, y_train)"
   ]
  },
  {
   "cell_type": "code",
   "execution_count": 60,
   "id": "717fe095-b3a8-42a5-9e93-4ad4e732af70",
   "metadata": {},
   "outputs": [
    {
     "name": "stdout",
     "output_type": "stream",
     "text": [
      "Accuracy Score:  0.7986577181208053\n",
      "Precision Score:  0.9038461538461539\n",
      "F1 Score:  0.6103896103896104\n",
      "Recall Score:  0.46078431372549017\n"
     ]
    }
   ],
   "source": [
    "y_pred = clf.predict(X_train)\n",
    "print('Accuracy Score: ', accuracy_score(y_train, y_pred))\n",
    "print('Precision Score: ', precision_score(y_train, y_pred))\n",
    "print('F1 Score: ', f1_score(y_train, y_pred))\n",
    "print('Recall Score: ', recall_score(y_train, y_pred))"
   ]
  },
  {
   "cell_type": "code",
   "execution_count": 61,
   "id": "1f2ea3c0-9872-40c4-a22a-1a69e0254ff1",
   "metadata": {},
   "outputs": [],
   "source": [
    "#Este no me lo corrio. Deje la compu 1 hora y no funco. \n",
    "#parameters = {\"kernel\":(\"linear\", \"rbf\"), \"C\":[1, 10]}\n",
    "#svc = svm.SVC()\n",
    "#clf = GridSearchCV(svc, parameters)\n",
    "#clf.fit(X_train, y_train)"
   ]
  },
  {
   "cell_type": "code",
   "execution_count": 62,
   "id": "dc768634-da4c-4aef-bce7-5de48a779349",
   "metadata": {},
   "outputs": [
    {
     "name": "stdout",
     "output_type": "stream",
     "text": [
      "SVM con Kernel rbf, dio accuracy de 0,7986\n",
      "SVM con Kernel Linear, dio accuracy de 0,6812\n",
      "SVM con Kernel Poly, dio accuracy de 0,7885\n",
      "SVM con Kernel Sigmoid, dio accuracy de 0,4832\n",
      "SVM con Kernel rbf + gamma auto da accuracy de 1 en train, pero en test 0,63\n"
     ]
    }
   ],
   "source": [
    "print(\"SVM con Kernel rbf, dio accuracy de 0,7986\")\n",
    "print(\"SVM con Kernel Linear, dio accuracy de 0,6812\")\n",
    "print(\"SVM con Kernel Poly, dio accuracy de 0,7885\")\n",
    "print(\"SVM con Kernel Sigmoid, dio accuracy de 0,4832\")\n",
    "print(\"SVM con Kernel rbf + gamma auto da accuracy de 1 en train, pero en test 0,63\")\n"
   ]
  },
  {
   "cell_type": "code",
   "execution_count": 63,
   "id": "aab6702b-dfc6-428d-b4e9-bd212d03c2b2",
   "metadata": {},
   "outputs": [
    {
     "name": "stdout",
     "output_type": "stream",
     "text": [
      "Accuracy Score:  0.7827181208053692\n",
      "Precision Score:  0.8976744186046511\n",
      "F1 Score:  0.5984496124031008\n",
      "Recall Score:  0.44883720930232557\n"
     ]
    }
   ],
   "source": [
    "y_pred = clf.predict(X_test)\n",
    "print('Accuracy Score: ', accuracy_score(y_test, y_pred))\n",
    "print('Precision Score: ', precision_score(y_test, y_pred))\n",
    "print('F1 Score: ', f1_score(y_test, y_pred))\n",
    "print('Recall Score: ', recall_score(y_test, y_pred))"
   ]
  },
  {
   "cell_type": "code",
   "execution_count": 184,
   "id": "4b9b337d-b93e-4060-bb5c-412553b4412f",
   "metadata": {},
   "outputs": [
    {
     "data": {
      "text/plain": [
       "Pipeline(steps=[('maxabsscaler', MaxAbsScaler()),\n",
       "                ('svc', SVC(gamma='auto', kernel='sigmoid'))])"
      ]
     },
     "execution_count": 184,
     "metadata": {},
     "output_type": "execute_result"
    }
   ],
   "source": [
    "from sklearn.preprocessing import RobustScaler, MinMaxScaler, MaxAbsScaler\n",
    "clf = make_pipeline(MaxAbsScaler(), svm.SVC(kernel=\"sigmoid\", gamma=\"auto\"))\n",
    "clf.fit(X_train, y_train)"
   ]
  },
  {
   "cell_type": "code",
   "execution_count": 185,
   "id": "8ef90ff8-b900-4464-a569-fffe3c14e0f4",
   "metadata": {},
   "outputs": [
    {
     "name": "stdout",
     "output_type": "stream",
     "text": [
      "Accuracy Score:  0.7516778523489933\n",
      "Precision Score:  0.75\n",
      "F1 Score:  0.5316455696202532\n",
      "Recall Score:  0.4117647058823529\n"
     ]
    }
   ],
   "source": [
    "y_pred = clf.predict(X_train)\n",
    "print('Accuracy Score: ', accuracy_score(y_train, y_pred))\n",
    "print('Precision Score: ', precision_score(y_train, y_pred))\n",
    "print('F1 Score: ', f1_score(y_train, y_pred))\n",
    "print('Recall Score: ', recall_score(y_train, y_pred))"
   ]
  },
  {
   "cell_type": "code",
   "execution_count": 186,
   "id": "ff8aaf88-4cde-4f0e-8cdb-e4559e7c753f",
   "metadata": {},
   "outputs": [
    {
     "name": "stdout",
     "output_type": "stream",
     "text": [
      "Accuracy Score:  0.7533557046979866\n",
      "Precision Score:  0.7931034482758621\n",
      "F1 Score:  0.5558912386706948\n",
      "Recall Score:  0.42790697674418604\n"
     ]
    }
   ],
   "source": [
    "y_pred = clf.predict(X_test)\n",
    "print('Accuracy Score: ', accuracy_score(y_test, y_pred))\n",
    "print('Precision Score: ', precision_score(y_test, y_pred))\n",
    "print('F1 Score: ', f1_score(y_test, y_pred))\n",
    "print('Recall Score: ', recall_score(y_test, y_pred))"
   ]
  },
  {
   "cell_type": "code",
   "execution_count": null,
   "id": "09fe65e3-73c1-4ccf-9f2a-f3f31d5b907e",
   "metadata": {},
   "outputs": [],
   "source": []
  }
 ],
 "metadata": {
  "kernelspec": {
   "display_name": "Python 3",
   "language": "python",
   "name": "python3"
  },
  "language_info": {
   "codemirror_mode": {
    "name": "ipython",
    "version": 3
   },
   "file_extension": ".py",
   "mimetype": "text/x-python",
   "name": "python",
   "nbconvert_exporter": "python",
   "pygments_lexer": "ipython3",
   "version": "3.8.8"
  }
 },
 "nbformat": 4,
 "nbformat_minor": 5
}
